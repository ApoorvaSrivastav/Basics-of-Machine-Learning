{
 "cells": [
  {
   "cell_type": "markdown",
   "metadata": {},
   "source": [
    "## Prerequisites"
   ]
  },
  {
   "cell_type": "code",
   "execution_count": 1,
   "metadata": {
    "colab": {
     "base_uri": "https://localhost:8080/",
     "height": 322
    },
    "colab_type": "code",
    "executionInfo": {
     "elapsed": 7930,
     "status": "ok",
     "timestamp": 1596984057042,
     "user": {
      "displayName": "KARTIK RISHI BHARADWAJ 14BEE0070",
      "photoUrl": "",
      "userId": "12368401133146776355"
     },
     "user_tz": -330
    },
    "id": "fo0ncTHEm0Gt",
    "outputId": "4d08b718-becd-43d5-9f12-ed16c8698790"
   },
   "outputs": [
    {
     "name": "stdout",
     "output_type": "stream",
     "text": [
      "Requirement already up-to-date: gif in c:\\users\\asus\\anaconda3\\lib\\site-packages (3.0.0)\n",
      "Requirement already satisfied, skipping upgrade: Pillow>=7.1.2 in c:\\users\\asus\\anaconda3\\lib\\site-packages (from gif) (7.2.0)\n"
     ]
    },
    {
     "name": "stderr",
     "output_type": "stream",
     "text": [
      "WARNING: You are using pip version 20.0.2; however, version 20.2.3 is available.\n",
      "You should consider upgrading via the 'C:\\Users\\Asus\\Anaconda3\\python.exe -m pip install --upgrade pip' command.\n"
     ]
    }
   ],
   "source": [
    "# Ensure you have `gif` python package installed\n",
    "!pip install -U gif"
   ]
  },
  {
   "cell_type": "markdown",
   "metadata": {},
   "source": [
    "#### Import utility functions\n",
    "\n",
    "We have provided a bunch of helper functions in the utils.ipynb notebook that allows for commonly used functions that are not central to the discussion of topic at hand, like plotting functions etc. Feel free to explore the functions and their implementations.\n",
    "\n",
    "The following cell imports the functions written in the utils notebook. You can ignore this part of the notebook"
   ]
  },
  {
   "cell_type": "code",
   "execution_count": 2,
   "metadata": {
    "colab": {
     "base_uri": "https://localhost:8080/",
     "height": 34
    },
    "colab_type": "code",
    "executionInfo": {
     "elapsed": 7905,
     "status": "ok",
     "timestamp": 1596984057052,
     "user": {
      "displayName": "KARTIK RISHI BHARADWAJ 14BEE0070",
      "photoUrl": "",
      "userId": "12368401133146776355"
     },
     "user_tz": -330
    },
    "id": "_6NRlukDPKlg",
    "outputId": "41351a10-d770-4089-dbed-641587d0c6c6"
   },
   "outputs": [
    {
     "name": "stdout",
     "output_type": "stream",
     "text": [
      "running importer\n"
     ]
    }
   ],
   "source": [
    "import io, os, sys, types\n",
    "from IPython import get_ipython\n",
    "from nbformat import read\n",
    "from IPython.core.interactiveshell import InteractiveShell\n",
    "\n",
    "def find_notebook(fullname, path=None):\n",
    "    \"\"\"find a notebook, given its fully qualified name and an optional path\n",
    "\n",
    "    This turns \"foo.bar\" into \"foo/bar.ipynb\"\n",
    "    and tries turning \"Foo_Bar\" into \"Foo Bar\" if Foo_Bar\n",
    "    does not exist.\n",
    "    \"\"\"\n",
    "    name = fullname.rsplit('.', 1)[-1]\n",
    "    if not path:\n",
    "        path = ['']\n",
    "    for d in path:\n",
    "        nb_path = os.path.join(d, name + \".ipynb\")\n",
    "        #print('searching: %s'%nb_path)\n",
    "        if os.path.isfile(nb_path):\n",
    "            return nb_path\n",
    "        # let import Notebook_Name find \"Notebook Name.ipynb\"\n",
    "        nb_path = nb_path.replace(\"_\", \" \")\n",
    "        #print('searching: %s' % nb_path)\n",
    "        if os.path.isfile(nb_path):\n",
    "            return nb_path\n",
    "\n",
    "class NotebookLoader(object):\n",
    "    \"\"\"Module Loader for Jupyter Notebooks\"\"\"\n",
    "    def __init__(self, path=None):\n",
    "        self.shell = InteractiveShell.instance()\n",
    "        self.path = path\n",
    "\n",
    "    def load_module(self, fullname):\n",
    "        \"\"\"import a notebook as a module\"\"\"\n",
    "        path = find_notebook(fullname, self.path)\n",
    "\n",
    "        print (\"importing Jupyter notebook from %s\" % path)\n",
    "\n",
    "        # load the notebook object\n",
    "        with io.open(path, 'r', encoding='utf-8') as f:\n",
    "            nb = read(f, 4)\n",
    "\n",
    "\n",
    "        # create the module and add it to sys.modules\n",
    "        # if name in sys.modules:\n",
    "        #    return sys.modules[name]\n",
    "        mod = types.ModuleType(fullname)\n",
    "        mod.__file__ = path\n",
    "        mod.__loader__ = self\n",
    "        mod.__dict__['get_ipython'] = get_ipython\n",
    "        sys.modules[fullname] = mod\n",
    "\n",
    "        # extra work to ensure that magics that would affect the user_ns\n",
    "        # actually affect the notebook module's ns\n",
    "        save_user_ns = self.shell.user_ns\n",
    "        self.shell.user_ns = mod.__dict__\n",
    "\n",
    "        #print('Found %d cells'%len(nb.cells))\n",
    "        try:\n",
    "          for cell in nb.cells:\n",
    "            if cell.cell_type == 'code':\n",
    "                # transform the input to executable Python\n",
    "                code = self.shell.input_transformer_manager.transform_cell(cell.source)\n",
    "                # run the code in themodule\n",
    "                exec(code, mod.__dict__)\n",
    "        finally:\n",
    "            self.shell.user_ns = save_user_ns\n",
    "        return mod\n",
    "\n",
    "class NotebookFinder(object):\n",
    "    \"\"\"Module finder that locates Jupyter Notebooks\"\"\"\n",
    "    def __init__(self):\n",
    "        self.loaders = {}\n",
    "\n",
    "    def find_module(self, fullname, path=None):\n",
    "        nb_path = find_notebook(fullname, path)\n",
    "        if not nb_path:\n",
    "            return\n",
    "\n",
    "        key = path\n",
    "        if path:\n",
    "            # lists aren't hashable\n",
    "            key = os.path.sep.join(path)\n",
    "\n",
    "        if key not in self.loaders:\n",
    "            self.loaders[key] = NotebookLoader(path)\n",
    "        return self.loaders[key]\n",
    "\n",
    "\n",
    "#  register the NotebookFinder with sys.meta_path\n",
    "print('running importer')\n",
    "sys.meta_path.append(NotebookFinder())"
   ]
  },
  {
   "cell_type": "markdown",
   "metadata": {
    "colab_type": "text",
    "id": "JkL4C3Oz17wr"
   },
   "source": [
    "# Gradient Descent"
   ]
  },
  {
   "cell_type": "markdown",
   "metadata": {
    "colab_type": "text",
    "id": "42W7LYUI_kMY"
   },
   "source": [
    "Gradient descent is a first-order iterative optimization algorithm to find a local minima (or global minima in case of convex function) of a differentiable function. To achieve this, we take steps proportional to the negative of the gradient (or approximate gradient) of the function at the current point.\n",
    "\n",
    "Conveniently, the objective function of linear regression algorithm is strictly convex and differentiable. Hence, we can use gradient descent optimization to find optimal values of our hypothesis function. \n",
    "\n",
    "We revisit the equation to minimize the objective function of linear regression.\n",
    "\n",
    "\\begin{equation}\n",
    "\\min_{\\mathbf{w}} \\mathbf{J(w)} = \\min_{\\mathbf{w}} \\frac{1}{\\mathbf{N}} \\sum_\\mathbf{i=1}^\\mathbf{N} (\\mathbf{y_{i} - w^{\\top}x_i)^{2}}\n",
    "\\end{equation}\n",
    "\n",
    "Our gradient descent update for weights is:\n",
    "\n",
    "\\begin{equation}\n",
    "\\mathbf{w^{k+1}} \\leftarrow \\mathbf{w^k} - \\eta \\nabla{\\mathbf{J}}\n",
    "\\end{equation}\n",
    "\n",
    "where $\\eta$ is our learning rate and,\n",
    "\n",
    "\\begin{equation}\n",
    "\\nabla{\\mathbf{J}} = \\min_{\\mathbf{w}} \\frac{2}{\\mathbf{N}} \\sum_\\mathbf{i=1}^\\mathbf{N} (\\mathbf{y_{i} - w^{\\top}x_i)(-x_i)}\n",
    "\\end{equation}\n",
    "\n",
    "We will look at Standard (Batch) Gradient Descent, Mini-batch, and Stochastic versions of Gradient Descent."
   ]
  },
  {
   "cell_type": "code",
   "execution_count": 3,
   "metadata": {
    "colab": {
     "base_uri": "https://localhost:8080/",
     "height": 87
    },
    "colab_type": "code",
    "executionInfo": {
     "elapsed": 8289,
     "status": "ok",
     "timestamp": 1596984057455,
     "user": {
      "displayName": "KARTIK RISHI BHARADWAJ 14BEE0070",
      "photoUrl": "",
      "userId": "12368401133146776355"
     },
     "user_tz": -330
    },
    "id": "EFOxN1pUPfJ2",
    "outputId": "59f3ca6a-e2db-4b5e-bed4-51af7d1dd11d"
   },
   "outputs": [
    {
     "name": "stdout",
     "output_type": "stream",
     "text": [
      "importing Jupyter notebook from utils.ipynb\n"
     ]
    }
   ],
   "source": [
    "import numpy as np\n",
    "import matplotlib.pyplot as plt\n",
    "from sklearn.datasets import make_regression\n",
    "from sklearn.model_selection import train_test_split\n",
    "import seaborn as sb\n",
    "import gif\n",
    "import utils\n",
    "from utils import plot_convex_loss_and_predict_line\n",
    "from utils import mse_error\n"
   ]
  },
  {
   "cell_type": "code",
   "execution_count": 4,
   "metadata": {
    "colab": {},
    "colab_type": "code",
    "executionInfo": {
     "elapsed": 8279,
     "status": "ok",
     "timestamp": 1596984057458,
     "user": {
      "displayName": "KARTIK RISHI BHARADWAJ 14BEE0070",
      "photoUrl": "",
      "userId": "12368401133146776355"
     },
     "user_tz": -330
    },
    "id": "gprBlQapV1VU"
   },
   "outputs": [],
   "source": [
    "num_samples = 100\n",
    "# Generating regression dataset\n",
    "X_train, Y_train = make_regression(n_samples=num_samples, n_features=1, n_informative=1, noise=20, random_state=2017)\n",
    "\n",
    "# Adding bias as a column in X\n",
    "bias_ones = np.ones((num_samples, 1))\n",
    "X_train = np.hstack((bias_ones, X_train))\n",
    "Y_train = Y_train.reshape(-1, 1)"
   ]
  },
  {
   "cell_type": "code",
   "execution_count": 5,
   "metadata": {
    "colab": {
     "base_uri": "https://localhost:8080/",
     "height": 34
    },
    "colab_type": "code",
    "executionInfo": {
     "elapsed": 8267,
     "status": "ok",
     "timestamp": 1596984057461,
     "user": {
      "displayName": "KARTIK RISHI BHARADWAJ 14BEE0070",
      "photoUrl": "",
      "userId": "12368401133146776355"
     },
     "user_tz": -330
    },
    "id": "S_CrY0VzRWF8",
    "outputId": "24302da3-8c01-4ec5-deda-5db7024392f8"
   },
   "outputs": [
    {
     "name": "stdout",
     "output_type": "stream",
     "text": [
      "X_train: num_samples 100, num_features 2\n"
     ]
    }
   ],
   "source": [
    "print(\"X_train: num_samples {}, num_features {}\" .format((X_train.shape)[0], (X_train.shape)[1]))"
   ]
  },
  {
   "cell_type": "code",
   "execution_count": 6,
   "metadata": {
    "colab": {
     "base_uri": "https://localhost:8080/",
     "height": 498
    },
    "colab_type": "code",
    "executionInfo": {
     "elapsed": 8724,
     "status": "ok",
     "timestamp": 1596984057947,
     "user": {
      "displayName": "KARTIK RISHI BHARADWAJ 14BEE0070",
      "photoUrl": "",
      "userId": "12368401133146776355"
     },
     "user_tz": -330
    },
    "id": "L2uxTneH_iqf",
    "outputId": "e7e14247-0b13-4904-e4fd-818dad7f05f4"
   },
   "outputs": [
    {
     "data": {
      "image/png": "[encoded data removed]",
      "text/plain": [
       "<Figure size 504x504 with 1 Axes>"
      ]
     },
     "metadata": {
      "needs_background": "light"
     },
     "output_type": "display_data"
    }
   ],
   "source": [
    "plt.figure(figsize=(7,7));\n",
    "plt.scatter(X_train[:, 1], Y_train, label='Point', color='green')\n",
    "plt.suptitle('X_train vs Y_train')\n",
    "plt.xlabel(\"X_train\")\n",
    "plt.ylabel(\"Y_train\");"
   ]
  },
  {
   "cell_type": "code",
   "execution_count": 7,
   "metadata": {
    "colab": {},
    "colab_type": "code",
    "executionInfo": {
     "elapsed": 8718,
     "status": "ok",
     "timestamp": 1596984057951,
     "user": {
      "displayName": "KARTIK RISHI BHARADWAJ 14BEE0070",
      "photoUrl": "",
      "userId": "12368401133146776355"
     },
     "user_tz": -330
    },
    "id": "YOXZyxV4Ne77"
   },
   "outputs": [],
   "source": [
    "def train(X_train, Y_train, num_epochs, pts_per_batch, learning_rate, gd_type):\n",
    "    training_errors = []\n",
    "    frames = []\n",
    "\n",
    "    # Initializing weights\n",
    "    w = np.array([-15, 40]) + np.random.rand(2)\n",
    "    w = w.reshape(-1, 1)\n",
    "\n",
    "    weights_history = []\n",
    "    Y_prediction = []\n",
    "    append_flag = False\n",
    "\n",
    "    # Getting number of batches/epochs to run\n",
    "    num_train_datapts = len(Y_train)\n",
    "    mini_batches = int(num_train_datapts/pts_per_batch)\n",
    "\n",
    "    # If mini_batches = 1, means all samples are being considered at once then standard GD or batch  is being executed.\n",
    "    # If mini_batches > 1 and < num_training_datapoints, and an integer, then mini-batch GD is being run.\n",
    "    # If mini_batches = num_training_datapoints, then SGD is being run.# means each batch has single sample\n",
    "\n",
    "    num_batches = int(mini_batches * num_epochs)\n",
    "    print(f'Num_batches: {num_batches} Mini-batches: {mini_batches} Num_epochs: {num_epochs} Points_per_batch {pts_per_batch} train_point {num_train_datapts}')\n",
    "\n",
    "    # Do gradient descent for 'num_batches' batches (or mini-batches)\n",
    "    temp_mse_history = []\n",
    "    for i in range(1, num_batches+1):\n",
    "\n",
    "        if num_train_datapts == pts_per_batch:\n",
    "            # Sampling training data points for batch GD\n",
    "            X_input = X_train\n",
    "            Y_true = Y_train\n",
    "      \n",
    "        else:\n",
    "            # Sampling training data points for stochastic or mini-batch GD\n",
    "            train_idxs = np.random.permutation(num_train_datapts)\n",
    "            train_idxs = train_idxs[:pts_per_batch]\n",
    "            X_input = X_train[train_idxs]\n",
    "            Y_true = Y_train[train_idxs]\n",
    "      \n",
    "        y_pred = np.dot(X_input, w)\n",
    "        # Gradient of l2 loss w.r.t w\n",
    "        grad_w = -np.dot(X_input.T, Y_true - y_pred)\n",
    "\n",
    "        temp_mse = np.mean(0.5 * (Y_true - y_pred)**2)# avg loss for the current batch \n",
    "    \n",
    "        if num_train_datapts == pts_per_batch:\n",
    "          # Appending values during batch GD\n",
    "          mse = temp_mse \n",
    "          append_flag = True # this is made true only if one epoch gets completed and for batch GD it gets completed in one iteration only\n",
    "      \n",
    "        elif pts_per_batch != 1 and pts_per_batch != num_train_datapts:\n",
    "  \n",
    "\n",
    "        pts_per_batch == 1:# for SGD update in weights,mse and y prediction is appended after every iteration rather than one epoch\n",
    "            y_pred = np.dot(X_train, w)\n",
    "            mse = np.mean(0.5 * (Y_train - y_pred)**2)\n",
    "            append_flag = True\n",
    "     \n",
    "        # Appending errors, weights, and predictions only if an epoch is completed.\n",
    "        # This will help us in our visualization of GD.\n",
    "        if append_flag:\n",
    "            training_errors.append(mse)\n",
    "            weights_history.append(w)\n",
    "            Y_prediction.append(y_pred)\n",
    "            append_flag = False\n",
    "\n",
    "        # Update the weights\n",
    "        w -= (2*learning_rate/pts_per_batch) * grad_w #updated after every iteration\n",
    "        w = np.round(w, decimals=2)\n",
    "\n",
    "    return training_errors, weights_history, Y_prediction"
   ]
  },
  {
   "cell_type": "code",
   "execution_count": 8,
   "metadata": {
    "colab": {},
    "colab_type": "code",
    "executionInfo": {
     "elapsed": 8706,
     "status": "ok",
     "timestamp": 1596984057953,
     "user": {
      "displayName": "KARTIK RISHI BHARADWAJ 14BEE0070",
      "photoUrl": "",
      "userId": "12368401133146776355"
     },
     "user_tz": -330
    },
    "id": "Brcox848M1qD"
   },
   "outputs": [],
   "source": [
    "def generate_GD_gifs(training_errors, weights_history, X_train, Y_train, Y_prediction, gd_type='mini-batch'):\n",
    "    frames = []\n",
    "\n",
    "    for i in range(len(training_errors)):\n",
    "        frame = plot_convex_loss_and_predict_line(training_errors, weights_history, X_train, Y_train, Y_prediction, i)\n",
    "        frames.append(frame)\n",
    "    gif.save(frames, \"content/\"+gd_type+\"_GD.gif\", duration=500)\n",
    "    print('gifs generated')"
   ]
  },
  {
   "cell_type": "markdown",
   "metadata": {
    "colab_type": "text",
    "id": "8fnpRV_VBvL2"
   },
   "source": [
    "Vanilla gradient descent, aka batch gradient descent, calculates the gradient of the loss function w.r.t to the parameters $w$ for all the training examples. We need to only make one update per epoch. However, for a large dataset, batch GD can be slow and sometimes intractable if the datasets don't fit in memory. Also, we can't update our model online, i.e., with new examples on-the-fly. The pseudo code is as follows:\n",
    "\n",
    "For a dataset $D = (x_i, y_i)_i^m$ of $m$ training examples, \n",
    "\n",
    "1.  Initializing weights and biases.\n",
    "2.  For every epoch $\\in [1,...., \\text{max_epochs}]$:\n",
    "     * shuffle D to prevent cycles\n",
    "     * compute prediction $y_{\\text{prediction}} = activation(X_{\\text{input}} \\times weights)$\n",
    "     * compute loss $L = (y_{\\text{true}}, y_{\\text{predicted}})$\n",
    "     * compute gradients $\\Delta \\mathbf{w} = - \\nabla_{Loss} \\mathbf{w}$\n",
    "     * update parameters $\\mathbf{w} :=\\mathbf{w}+\\Delta \\mathbf{w}$\n",
    "\n",
    "Batch GD is guaranteed to converge to the global minima for convex loss surfaces and to a local minima for non-convex surfaces."
   ]
  },
  {
   "cell_type": "code",
   "execution_count": 9,
   "metadata": {
    "colab": {
     "base_uri": "https://localhost:8080/",
     "height": 50
    },
    "colab_type": "code",
    "executionInfo": {
     "elapsed": 21846,
     "status": "ok",
     "timestamp": 1596984071119,
     "user": {
      "displayName": "KARTIK RISHI BHARADWAJ 14BEE0070",
      "photoUrl": "",
      "userId": "12368401133146776355"
     },
     "user_tz": -330
    },
    "id": "fJxjnF0oMeh7",
    "outputId": "d6ab2cf9-3f69-4d5e-889c-d34c4e9b1fb3"
   },
   "outputs": [
    {
     "name": "stdout",
     "output_type": "stream",
     "text": [
      "Num_batches: 20 Mini-batches: 1 Num_epochs: 20 Points_per_batch 100 train_point 100\n",
      "gifs generated\n"
     ]
    }
   ],
   "source": [
    "# Batch GD\n",
    "training_errors, weights_history, Y_prediction = train(X_train, Y_train, num_epochs=20, pts_per_batch=100, learning_rate=0.1, gd_type='batch')\n",
    "\n",
    "generate_GD_gifs(training_errors, weights_history, X_train, Y_train, Y_prediction, gd_type='batch')"
   ]
  },
  {
   "cell_type": "markdown",
   "metadata": {
    "colab_type": "text",
    "id": "m0ZVnp9jsLEc"
   },
   "source": [
    "Visualizing Batch Gradient Descent\n",
    "\n",
    "![Batch GD](https://drive.google.com/uc?id=1OSGBdrmU6a5pCl5f0VOnmon05V2N7Ff1)"
   ]
  },
  {
   "cell_type": "code",
   "execution_count": 10,
   "metadata": {
    "colab": {
     "base_uri": "https://localhost:8080/",
     "height": 50
    },
    "colab_type": "code",
    "executionInfo": {
     "elapsed": 63330,
     "status": "ok",
     "timestamp": 1596984765073,
     "user": {
      "displayName": "KARTIK RISHI BHARADWAJ 14BEE0070",
      "photoUrl": "",
      "userId": "12368401133146776355"
     },
     "user_tz": -330
    },
    "id": "9ecPhD7UUxHp",
    "outputId": "76a7bc4c-1c76-4595-cab5-1ecdcde25a63"
   },
   "outputs": [
    {
     "name": "stdout",
     "output_type": "stream",
     "text": [
      "Num_batches: 100 Mini-batches: 100 Num_epochs: 1 Points_per_batch 1 train_point 100\n",
      "gifs generated\n"
     ]
    }
   ],
   "source": [
    "# Stochastic GD\n",
    "training_errors, weights_history, Y_prediction = train(X_train, Y_train, num_epochs=1, pts_per_batch=1, learning_rate=0.1, gd_type='SGD')\n",
    "generate_GD_gifs(training_errors, weights_history, X_train, Y_train, Y_prediction, gd_type='SGD')"
   ]
  },
  {
   "cell_type": "markdown",
   "metadata": {
    "colab_type": "text",
    "id": "y5GcRVtBGFvR"
   },
   "source": [
    "In Stochastic GD, parameter updates are performed for every training example. Due to frequent updates, this leads to high variance that causes the loss function to fluctuate heavily.\n",
    "\n",
    "These fluctuations can sometimes help to find better local minima. On the other hand, these fluctuations can lead to longer convergence time.\n",
    "\n",
    "For a dataset $D = (x_i, y_i)_i^m$ of $m$ training examples, \n",
    "\n",
    "1.  Initializing weights and biases.\n",
    "2.  For every epoch $\\in [1,...., \\text{max_epochs}]$:\n",
    ">2.1  For iteration $\\text{itr} \\in [1,....., m]$: \n",
    "     * Draw random examples with replacement: $(x_i, y_i) \\in D$\n",
    "     * compute prediction $y_i^{\\text{prediction}} = activation(x_i \\times weights)$\n",
    "     * compute loss $L_i = (y_i^{\\text{true}}, y_i^{\\text{predicted}})$\n",
    "     * compute gradients $\\Delta \\mathbf{w} = - \\nabla_{Loss_i} \\mathbf{w}$\n",
    "     * update parameters $\\mathbf{w} :=\\mathbf{w}+\\Delta \\mathbf{w}$"
   ]
  },
  {
   "cell_type": "markdown",
   "metadata": {
    "colab_type": "text",
    "id": "dNyQ81jK0qJV"
   },
   "source": [
    "Visualizing Stochastic Gradient Descent\n",
    "\n",
    "![SGD](https://drive.google.com/uc?id=1gdelm-z5cjNR1WkdEIiC_VOYCcpbpOlx)"
   ]
  },
  {
   "cell_type": "markdown",
   "metadata": {
    "colab_type": "text",
    "id": "V18l7xQlDr0Z"
   },
   "source": [
    "Minibatch GD offers the best of both worlds, i.e., a trade-off between the stochastic GD that perform updates based on a single training example and Batch GD which takes all of the dataset at once. \n",
    "\n",
    "In mini-batch, update is performed for every mini-batch of k training examples. Hence, we would have to take more updates per epoch as compared to batch GD.\n",
    "\n",
    "The updates reduces the variances of parameter updates leading to a more stable convergence. By using highly optimized matrix computation from state-of-the-art machine learning libraries, mini-batch is typically the algorithm of choice when training a neural network.\n",
    "\n",
    "For a dataset $D = (x_i, y_i)_i^m$ of $m$ training examples,\n",
    "\n",
    "<ol type=\"1\">\n",
    "<li>Initializing weights and biases.</li>\n",
    "<li>For every epoch $\\in [1,...., \\text{max_epochs}]$:</li>\n",
    "<ul>\n",
    "  <li>For iteration $i \\in [1,....., n]$: (where n is the mini-batch size)</li>\n",
    "  <ul>\n",
    "    <li>Draw random examples with replacement: $(x_i, y_i) \\in D$</li>\n",
    "  </ul>\n",
    "  <li>compute prediction $y_i^{\\text{prediction}} = activation(x_i \\times weights)$</li>\n",
    "  <li>compute loss $L_i = (y_i^{\\text{true}}, y_i^{\\text{predicted}})$</li>\n",
    "  <li>compute gradients $\\Delta \\mathbf{w} = - \\nabla_{L_i} \\mathbf{w}$</li>\n",
    "  <li>update parameters $\\mathbf{w} :=\\mathbf{w}+\\Delta \\mathbf{w}$</li>\n",
    "  </ul>\n",
    "</ol>\n",
    "  \n",
    "\n",
    "One can also draw examples without replacement. Drawing examples w/o replacement is more commonly used in modern deep learning libraries. However, we shall look at mini-batch GD where we draw samples at random."
   ]
  },
  {
   "cell_type": "code",
   "execution_count": 11,
   "metadata": {
    "colab": {
     "base_uri": "https://localhost:8080/",
     "height": 50
    },
    "colab_type": "code",
    "executionInfo": {
     "elapsed": 98283,
     "status": "ok",
     "timestamp": 1596984147605,
     "user": {
      "displayName": "KARTIK RISHI BHARADWAJ 14BEE0070",
      "photoUrl": "",
      "userId": "12368401133146776355"
     },
     "user_tz": -330
    },
    "id": "rI0NNEtpUvig",
    "outputId": "4882b54f-c86e-4c3f-819e-1819d52052de"
   },
   "outputs": [
    {
     "name": "stdout",
     "output_type": "stream",
     "text": [
      "Num_batches: 100 Mini-batches: 5 Num_epochs: 20 Points_per_batch 20 train_point 100\n",
      "gifs generated\n"
     ]
    }
   ],
   "source": [
    "# Mini-batch GD\n",
    "training_errors, weights_history, Y_prediction = train(X_train, Y_train, num_epochs=20, pts_per_batch=20, learning_rate=0.1, gd_type='mini-batch')\n",
    "generate_GD_gifs(training_errors, weights_history, X_train, Y_train, Y_prediction, gd_type='mini-batch')"
   ]
  },
  {
   "cell_type": "markdown",
   "metadata": {
    "colab_type": "text",
    "id": "Z5qoTFkhlwLL"
   },
   "source": [
    "Visualizing mini-batch Gradient Descent\n",
    "\n",
    "![mini-batch](https://drive.google.com/uc?id=1Lp1tDUS1cid-TUc37zhc5PI9VdYmmzjc)"
   ]
  },
  {
   "cell_type": "markdown",
   "metadata": {
    "colab_type": "text",
    "id": "w56I_q3UOzfJ"
   },
   "source": [
    "# Visualizing the effect of learning rate on GD"
   ]
  },
  {
   "cell_type": "markdown",
   "metadata": {
    "colab_type": "text",
    "id": "LG4a4J0LAa1D"
   },
   "source": [
    "Now that we have seen the effect of changing the number of batches in a gradient descent, we look at the effect of different learning rates, another important factor that actively influences gradient descent. Previously, we had used 0.1 as our learning rate to train the linear regression model. Let's use Batch gradient descent as an example with lr rate $0.005$ and $1.1. You can try other values for other GD types."
   ]
  },
  {
   "cell_type": "code",
   "execution_count": 12,
   "metadata": {
    "colab": {
     "base_uri": "https://localhost:8080/",
     "height": 50
    },
    "colab_type": "code",
    "executionInfo": {
     "elapsed": 110760,
     "status": "ok",
     "timestamp": 1596984160107,
     "user": {
      "displayName": "KARTIK RISHI BHARADWAJ 14BEE0070",
      "photoUrl": "",
      "userId": "12368401133146776355"
     },
     "user_tz": -330
    },
    "id": "cGM2b8PbPBrK",
    "outputId": "bf8a9c07-3abb-43ad-d35d-442dcac94612"
   },
   "outputs": [
    {
     "name": "stdout",
     "output_type": "stream",
     "text": [
      "Num_batches: 20 Mini-batches: 1 Num_epochs: 20 Points_per_batch 100 train_point 100\n",
      "gifs generated\n"
     ]
    }
   ],
   "source": [
    "# Batch GD\n",
    "training_errors, weights_history, Y_prediction = train(X_train, Y_train, num_epochs=20, pts_per_batch=100, learning_rate=0.005, gd_type='batch')\n",
    "generate_GD_gifs(training_errors, weights_history, X_train, Y_train, Y_prediction, gd_type='batch-small-lr')"
   ]
  },
  {
   "cell_type": "markdown",
   "metadata": {
    "colab_type": "text",
    "id": "18ju1zgmaPZJ"
   },
   "source": [
    "![mini-batch-small-lr](https://drive.google.com/uc?id=1gGa7gcwHSCOSUqleCuQKyY1ur1T55W7y)"
   ]
  },
  {
   "cell_type": "code",
   "execution_count": 13,
   "metadata": {
    "colab": {
     "base_uri": "https://localhost:8080/",
     "height": 50
    },
    "colab_type": "code",
    "executionInfo": {
     "elapsed": 119531,
     "status": "ok",
     "timestamp": 1596984168914,
     "user": {
      "displayName": "KARTIK RISHI BHARADWAJ 14BEE0070",
      "photoUrl": "",
      "userId": "12368401133146776355"
     },
     "user_tz": -330
    },
    "id": "lEJ9DNHoPCOr",
    "outputId": "261212dc-8d04-4b42-d03c-cd7d18e91bdf"
   },
   "outputs": [
    {
     "name": "stdout",
     "output_type": "stream",
     "text": [
      "Num_batches: 15 Mini-batches: 1 Num_epochs: 15 Points_per_batch 100 train_point 100\n",
      "gifs generated\n"
     ]
    }
   ],
   "source": [
    "# Batch GD\n",
    "training_errors, weights_history, Y_prediction = train(X_train, Y_train, num_epochs=15, pts_per_batch=100, learning_rate=1.1, gd_type='batch')\n",
    "generate_GD_gifs(training_errors, weights_history, X_train, Y_train, Y_prediction, gd_type='batch-large-lr')"
   ]
  },
  {
   "cell_type": "markdown",
   "metadata": {
    "colab_type": "text",
    "id": "MxcuV8tyaGeF"
   },
   "source": [
    "![Batch-large-lr](https://drive.google.com/uc?id=1cMrXF1Edjrg0ZA3oj9YEaRpfntq8_bq9)"
   ]
  },
  {
   "cell_type": "code",
   "execution_count": null,
   "metadata": {},
   "outputs": [],
   "source": []
  }
 ],
 "metadata": {
  "colab": {
   "collapsed_sections": [],
   "name": "GradientDescent_draft4.ipynb",
   "provenance": [],
   "toc_visible": true
  },
  "kernelspec": {
   "display_name": "Python 3",
   "language": "python",
   "name": "python3"
  },
  "language_info": {
   "codemirror_mode": {
    "name": "ipython",
    "version": 3
   },
   "file_extension": ".py",
   "mimetype": "text/x-python",
   "name": "python",
   "nbconvert_exporter": "python",
   "pygments_lexer": "ipython3",
   "version": "3.7.7"
  }
 },
 "nbformat": 4,
 "nbformat_minor": 1
}
