{
 "cells": [
  {
   "cell_type": "markdown",
   "metadata": {},
   "source": [
    "# Linear and Quadratic Programming Using CVXOPT"
   ]
  },
  {
   "cell_type": "markdown",
   "metadata": {},
   "source": [
    "The standard form for primal and dual linear programs (slightly different from what was done in class) in cvxopt library is given as follows\n",
    "$$\n",
    "\\begin{align*}\n",
    "\\text{minimize} \\quad &c^T x \\\\\n",
    "\\text{subject} \\quad &Gx \\leq h \\\\\n",
    "&Ax = b\\\\\n",
    "\\end{align*}\n",
    "$$"
   ]
  },
  {
   "cell_type": "markdown",
   "metadata": {},
   "source": [
    "We would like to solve the following linear programming problem.\n",
    "$$\n",
    "\\begin{align*}\n",
    "\\text{minimize} \\quad &-4x_1 - 5 x_2 \\\\\n",
    "\\text{subject to} \\quad &2x_1 + x_2 \\leq 3 \\\\\n",
    "&x_1 + 2x_2 \\leq 3 \\\\\n",
    "&x_1 \\geq 0, \\: x_2 \\geq 0.\n",
    "\\end{align*}\n",
    "$$\n",
    "We can write all inequalities as $\\leq$ as follows\n",
    "$$\n",
    "\\begin{align*}\n",
    "\\text{minimize} \\quad &-4x_1 - 5 x_2 \\\\\n",
    "\\text{subject to} \\quad &2x_1 + x_2 \\leq 3 \\\\\n",
    "&x_1 + 2x_2 \\leq 3 \\\\\n",
    "-&x_1 + 0 x_2 \\leq 0 \\\\\n",
    "&0 x_1 - x_2 \\leq 0.\n",
    "\\end{align*}\n",
    "$$\n",
    "\n",
    "To solve this using cvxopt library, we have\n",
    "$$\n",
    "G = \\begin{bmatrix}\n",
    "2 & 1 \\\\\n",
    "1 & 2 \\\\\n",
    "-1 & 0 \\\\\n",
    "0 & -1\n",
    "\\end{bmatrix}, \\quad c^T = [-4, -5], \\quad h = \\begin{bmatrix}\n",
    "3 \\\\\n",
    "3 \\\\\n",
    "0 \\\\\n",
    "0\n",
    "\\end{bmatrix}\n",
    "$$"
   ]
  },
  {
   "cell_type": "code",
   "execution_count": 1,
   "metadata": {},
   "outputs": [
    {
     "name": "stdout",
     "output_type": "stream",
     "text": [
      "     pcost       dcost       gap    pres   dres   k/t\n",
      " 0: -8.1000e+00 -1.8300e+01  4e+00  0e+00  8e-01  1e+00\n",
      " 1: -8.8055e+00 -9.4357e+00  2e-01  1e-16  4e-02  3e-02\n",
      " 2: -8.9981e+00 -9.0049e+00  2e-03  4e-16  5e-04  4e-04\n",
      " 3: -9.0000e+00 -9.0000e+00  2e-05  1e-16  5e-06  4e-06\n",
      " 4: -9.0000e+00 -9.0000e+00  2e-07  1e-16  5e-08  4e-08\n",
      "Optimal solution found.\n",
      "[ 1.00e+00]\n",
      "[ 1.00e+00]\n",
      "\n"
     ]
    }
   ],
   "source": [
    "from cvxopt import matrix, solvers\n",
    "c = matrix([-4., -5.])\n",
    "G = matrix([[2., 1., -1., 0.], [1., 2., 0., -1.]])\n",
    "h = matrix([3., 3., 0., 0.])\n",
    "sol = solvers.lp(c, G, h)\n",
    "print(sol['x'])"
   ]
  },
  {
   "cell_type": "markdown",
   "metadata": {},
   "source": [
    "## Model a Linear Program and Solve it using CVXOPT\n",
    "Consider the problem of modeling a problem as linear programming problem.\n",
    "A car company BNW has 4 manufacturing branches all over India. Number of labour units, materials, and pollution units are given as follows:\n",
    "\n",
    "$$\n",
    "\\begin{array}{r|r}\n",
    "& Labourers & Resources & Pollution \\\\ \\hline\n",
    "Factory 1 & 30 & 30 & 10 \\\\\n",
    "Factory 2 & 30 & 60 & 5 \\\\\n",
    "Factory 3 & 40 & 70 & 3 \\\\\n",
    "Factory 4 & 20 & 30 & 11\n",
    "\\end{array}\n",
    "$$\n",
    "\n",
    "Let $x_1, x_2, x_3, x_4$ be the number of cars produced at these factories. The objective is to maximize the number of cars produced, given the following constraints:\n",
    "\n",
    "<ol>\n",
    "<li> Factory 3 must produce at least 4 cars\n",
    "    <li> All other factories must produce at least 1 car\n",
    "<li> The total labour hours available is 4000, and \n",
    "<li> The number of material resources available is 16000\n",
    "<li> Total units of pollution must not be more than 12000 \n",
    "</ol>"
   ]
  },
  {
   "cell_type": "markdown",
   "metadata": {},
   "source": [
    "$\\color{red}{Question:}$ Model the above problem as linear program."
   ]
  },
  {
   "cell_type": "markdown",
   "metadata": {},
   "source": [
    "$\\color{blue}{Answer:}$"
   ]
  },
  {
   "cell_type": "markdown",
   "metadata": {},
   "source": [
    "![](Q1_1.jpeg)"
   ]
  },
  {
   "cell_type": "markdown",
   "metadata": {},
   "source": [
    "$\\color{red}{Question:}$ Write the constraint matrices and vectors."
   ]
  },
  {
   "cell_type": "markdown",
   "metadata": {},
   "source": [
    "$\\color{blue}{Answer:}$"
   ]
  },
  {
   "cell_type": "markdown",
   "metadata": {},
   "source": [
    "![](Q1_2.jpeg)"
   ]
  },
  {
   "cell_type": "markdown",
   "metadata": {},
   "source": [
    "$\\color{red}{Question:}$ Write python code, and show solution."
   ]
  },
  {
   "cell_type": "markdown",
   "metadata": {},
   "source": [
    "$\\color{blue}{Answer:}$"
   ]
  },
  {
   "cell_type": "code",
   "execution_count": 24,
   "metadata": {},
   "outputs": [
    {
     "name": "stdout",
     "output_type": "stream",
     "text": [
      "     pcost       dcost       gap    pres   dres   k/t\n",
      " 0: -8.6124e+02 -1.5131e+04  6e+03  2e-01  1e+01  1e+00\n",
      " 1: -6.2547e+02 -8.7561e+03  8e+03  9e-02  8e+00  9e+01\n",
      " 2: -2.8751e+02 -4.0002e+03  1e+04  4e-02  4e+00  2e+02\n",
      " 3: -1.6399e+02 -9.7180e+02  1e+03  1e-02  1e+00  2e+02\n",
      " 4: -1.5502e+02 -2.2837e+02  7e+01  8e-04  7e-02  1e+00\n",
      " 5: -1.9444e+02 -2.0346e+02  8e+00  1e-04  1e-02  7e-01\n",
      " 6: -1.9499e+02 -1.9509e+02  9e-02  1e-06  1e-04  8e-03\n",
      " 7: -1.9500e+02 -1.9500e+02  9e-04  1e-08  1e-06  8e-05\n",
      " 8: -1.9500e+02 -1.9500e+02  9e-06  1e-10  1e-08  8e-07\n",
      "Optimal solution found.\n",
      "[ 1.00e+00]\n",
      "[ 1.00e+00]\n",
      "[ 4.00e+00]\n",
      "[ 1.89e+02]\n",
      "\n"
     ]
    }
   ],
   "source": [
    "from cvxopt import matrix, solvers\n",
    "c = matrix([-1.,-1.,-1.,-1.])\n",
    "G = matrix([[-1.,0.,0.,0.,10.,3.,3.], [0.,-1.,0.,0.,5.,3.,6.],[0.,0.,-1.,0.,3.,4.,7.],[0.,0.,0.,-1.,11.,2.,3.]])\n",
    "h = matrix([-1., -1., -4., -1.,12000.,400.,1600])\n",
    "sol = solvers.lp(c, G, h)\n",
    "print(sol['x'])"
   ]
  },
  {
   "cell_type": "markdown",
   "metadata": {},
   "source": [
    "Your solution should be: \n",
    "\n",
    "[1, 1, 4, 189]"
   ]
  },
  {
   "cell_type": "markdown",
   "metadata": {},
   "source": [
    "# Quadratic Program\n",
    "We can write a quadratic program as follows:\n",
    "$$\n",
    "\\begin{align*}\n",
    "\\text{minimize} \\quad &(1/2)x^T P x + q^T x \\\\\n",
    "\\text{subject to} \\quad &Gx \\leq h \\\\\n",
    "&Ax \\geq b\n",
    "\\end{align*}\n",
    "$$"
   ]
  },
  {
   "cell_type": "markdown",
   "metadata": {},
   "source": [
    "Consider the following quadratic program. \n",
    "$$\n",
    "\\begin{align*}\n",
    "\\text{minimize} \\quad &2x_1^2 + x_2^2 + x_1x_2 + x_1 + x_2 \\\\\n",
    "\\text{subject to} \\quad &x_1 \\geq 0 \\\\\n",
    "&x_2 \\geq 0 \\\\\n",
    "&x_1 + 2x_2 = 1\n",
    "\\end{align*}\n",
    "$$"
   ]
  },
  {
   "cell_type": "markdown",
   "metadata": {},
   "source": [
    "$\\color{red}{Question:}$ Identify $P, q, G, A, h, b$\n"
   ]
  },
  {
   "cell_type": "code",
   "execution_count": null,
   "metadata": {},
   "outputs": [],
   "source": [
    "#If A=[1,2].T"
   ]
  },
  {
   "cell_type": "markdown",
   "metadata": {},
   "source": [
    "![](Q2_1.jpeg)\n"
   ]
  },
  {
   "cell_type": "code",
   "execution_count": null,
   "metadata": {},
   "outputs": [],
   "source": [
    "#If A=[1,1].T"
   ]
  },
  {
   "cell_type": "markdown",
   "metadata": {},
   "source": [
    "![](Q2_2.jpeg)"
   ]
  },
  {
   "cell_type": "markdown",
   "metadata": {},
   "source": [
    "$\\color{red}{Question:}$ Complete the python code below by filling the matrices found above."
   ]
  },
  {
   "cell_type": "code",
   "execution_count": 2,
   "metadata": {},
   "outputs": [
    {
     "name": "stdout",
     "output_type": "stream",
     "text": [
      "     pcost       dcost       gap    pres   dres\n",
      " 0:  7.2853e-01  2.8532e-01  3e+00  1e+00  2e+00\n",
      " 1:  8.3896e-01  4.5876e-01  4e-01  2e-16  4e-16\n",
      " 2:  7.6893e-01  7.4535e-01  2e-02  1e-16  8e-17\n",
      " 3:  7.5086e-01  7.4997e-01  9e-04  1e-16  3e-16\n",
      " 4:  7.5001e-01  7.5000e-01  9e-06  2e-16  6e-17\n",
      " 5:  7.5000e-01  7.5000e-01  9e-08  1e-16  2e-16\n",
      "Optimal solution found.\n",
      "[ 1.74e-07]\n",
      "[ 5.00e-01]\n",
      "\n"
     ]
    }
   ],
   "source": [
    "#if equality constraint is considered to be x1+2*x2=1\n",
    "from cvxopt import matrix, solvers\n",
    "Q = matrix([[4.,1.],[1.,2.]])\n",
    "p = matrix([1.,1.])\n",
    "G = matrix([[-1.,0.],[0.,-1.]])\n",
    "h = matrix([0.,0.])\n",
    "A = matrix([[1.0], [2.0]])\n",
    "b = matrix(1.0)\n",
    "sol=solvers.qp(Q, p, G, h, A, b)\n",
    "print(sol['x'])"
   ]
  },
  {
   "cell_type": "code",
   "execution_count": 3,
   "metadata": {},
   "outputs": [
    {
     "name": "stdout",
     "output_type": "stream",
     "text": [
      "     pcost       dcost       gap    pres   dres\n",
      " 0:  1.8889e+00  7.7778e-01  1e+00  3e-16  2e+00\n",
      " 1:  1.8769e+00  1.8320e+00  4e-02  2e-16  6e-02\n",
      " 2:  1.8750e+00  1.8739e+00  1e-03  2e-16  5e-04\n",
      " 3:  1.8750e+00  1.8750e+00  1e-05  6e-17  5e-06\n",
      " 4:  1.8750e+00  1.8750e+00  1e-07  2e-16  5e-08\n",
      "Optimal solution found.\n",
      "[ 2.50e-01]\n",
      "[ 7.50e-01]\n",
      "\n"
     ]
    }
   ],
   "source": [
    "#if equality constraint is considered to be x1+x2=1\n",
    "from cvxopt import matrix, solvers\n",
    "Q = matrix([[4.,1.],[1.,2.]])\n",
    "p = matrix([1.,1.])\n",
    "G = matrix([[-1.,0.],[0.,-1.]])\n",
    "h = matrix([0.,0.])\n",
    "A = matrix([[1.0], [1.0]])\n",
    "b = matrix(1.0)\n",
    "sol=solvers.qp(Q, p, G, h, A, b)\n",
    "print(sol['x'])"
   ]
  },
  {
   "cell_type": "markdown",
   "metadata": {},
   "source": [
    "The solution should be:\n",
    "\n",
    "[ 2.50e-01]\n",
    "\n",
    "[ 7.50e-01]"
   ]
  }
 ],
 "metadata": {
  "kernelspec": {
   "display_name": "Python 3",
   "language": "python",
   "name": "python3"
  },
  "language_info": {
   "codemirror_mode": {
    "name": "ipython",
    "version": 3
   },
   "file_extension": ".py",
   "mimetype": "text/x-python",
   "name": "python",
   "nbconvert_exporter": "python",
   "pygments_lexer": "ipython3",
   "version": "3.7.8"
  }
 },
 "nbformat": 4,
 "nbformat_minor": 2
}
