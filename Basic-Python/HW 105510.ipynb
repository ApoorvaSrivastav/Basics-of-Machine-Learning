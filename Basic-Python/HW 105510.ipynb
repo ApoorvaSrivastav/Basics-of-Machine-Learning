{
 "cells": [
  {
   "cell_type": "code",
   "execution_count": 9,
   "metadata": {},
   "outputs": [
    {
     "name": "stdout",
     "output_type": "stream",
     "text": [
      "Line is drawn between p1=[ 20 130]and p2=[-265  -43]\n",
      "Perpendicular is drawn from p0=[86 -9]\n"
     ]
    }
   ],
   "source": [
    "import numpy as np\n",
    "from numpy.random import randint\n",
    "p1=randint(-300,300,2)\n",
    "p2=randint(-300,300,2)\n",
    "p0=randint(-100,100,2)\n",
    "print('Line is drawn between p1=' + str(p1) + 'and p2='+ str(p2))\n",
    "print('Perpendicular is drawn from p0=' + str(p0))"
   ]
  },
  {
   "cell_type": "code",
   "execution_count": 10,
   "metadata": {},
   "outputs": [
    {
     "name": "stdout",
     "output_type": "stream",
     "text": [
      "Equation of line is:y=0.6070175438596491*x + 117.85964912280701\n",
      "Orthogonal distance from point p0 to Line between p1 and p2:153.0694604444263\n"
     ]
    }
   ],
   "source": [
    "slope1=(p2[1]-p1[1])/(p2[0]-p1[0]) #slope of line\n",
    "intercept1=p1[1]-slope1*p1[0]\n",
    "print('Equation of line is:y='+str(slope1) + '*x + ' +str(intercept1))\n",
    "a1=-slope1\n",
    "b1=1\n",
    "c1=-intercept1\n",
    "distance=abs(a1*p0[0] + b1*p0[1] + c1)/np.sqrt(a1**2 + b1**2)\n",
    "print('Orthogonal distance from point p0 to Line between p1 and p2:' + str(distance))"
   ]
  },
  {
   "cell_type": "code",
   "execution_count": 11,
   "metadata": {},
   "outputs": [
    {
     "name": "stdout",
     "output_type": "stream",
     "text": [
      "Equation of normal is:y=-1.6473988439306357*x + 132.67630057803467\n"
     ]
    }
   ],
   "source": [
    "slope2= -1/slope1      #slope of the normal\n",
    "intercept2=p0[1]-slope2*p0[0]\n",
    "print('Equation of normal is:y='+str(slope2) + '*x + ' +str(intercept2))\n",
    "a2=-slope2\n",
    "b2=1\n",
    "c2=-intercept2\n",
    "Mat=np.array([[a1,b1],\n",
    "              [a2,b2]])\n",
    "Vec=np.array([[-c1],[-c2]])\n",
    "Sol=np.matmul(np.linalg.inv(Mat),Vec) #point on the line where normal intersects\n"
   ]
  },
  {
   "cell_type": "code",
   "execution_count": 12,
   "metadata": {},
   "outputs": [
    {
     "data": {
      "text/plain": [
       "Text(-265, -43, 'p2')"
      ]
     },
     "execution_count": 12,
     "metadata": {},
     "output_type": "execute_result"
    },
    {
     "data": {
      "image/png": "[encoded data removed]",
      "text/plain": [
       "<Figure size 432x288 with 1 Axes>"
      ]
     },
     "metadata": {
      "needs_background": "light"
     },
     "output_type": "display_data"
    }
   ],
   "source": [
    "import matplotlib.pyplot as plt\n",
    "x_value= [p2[0],p1[0]]\n",
    "y_value= [p2[1],p1[1]]\n",
    "plt.axis('equal')\n",
    "plt.plot(x_value,y_value)\n",
    "plt.xlabel('x axis')\n",
    "plt.ylabel('y axis')\n",
    "plt.title('Line between two points and perpendicular from a point to the line')\n",
    "plt.scatter(x_value,y_value)\n",
    "x_new= [p0[0],Sol[0]]\n",
    "y_new= [p0[1],Sol[1]]\n",
    "plt.scatter(x_new,y_new)\n",
    "plt.plot(x_new,y_new,'--')\n",
    "plt.annotate(\"p0\", (p0[0], p0[1]))\n",
    "plt.annotate(\"p1\", (p1[0], p1[1]))\n",
    "plt.annotate(\"p2\", (p2[0], p2[1]))"
   ]
  },
  {
   "cell_type": "code",
   "execution_count": null,
   "metadata": {},
   "outputs": [],
   "source": []
  },
  {
   "cell_type": "code",
   "execution_count": null,
   "metadata": {},
   "outputs": [],
   "source": []
  },
  {
   "cell_type": "code",
   "execution_count": null,
   "metadata": {},
   "outputs": [],
   "source": []
  },
  {
   "cell_type": "code",
   "execution_count": null,
   "metadata": {},
   "outputs": [],
   "source": []
  },
  {
   "cell_type": "code",
   "execution_count": null,
   "metadata": {},
   "outputs": [],
   "source": []
  }
 ],
 "metadata": {
  "kernelspec": {
   "display_name": "Python 3",
   "language": "python",
   "name": "python3"
  },
  "language_info": {
   "codemirror_mode": {
    "name": "ipython",
    "version": 3
   },
   "file_extension": ".py",
   "mimetype": "text/x-python",
   "name": "python",
   "nbconvert_exporter": "python",
   "pygments_lexer": "ipython3",
   "version": "3.7.7"
  }
 },
 "nbformat": 4,
 "nbformat_minor": 4
}
