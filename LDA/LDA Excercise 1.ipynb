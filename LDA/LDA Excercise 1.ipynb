{
 "cells": [
  {
   "cell_type": "markdown",
   "metadata": {},
   "source": [
    "# Excercise 1\n",
    "\n",
    "In the tutorial you saw how to compute LDA for a two class problem. In this excercise we will work on a multi-class problem. We will be working with the famous Iris dataset that has been deposited on the UCI machine learning repository\n",
    "(https://archive.ics.uci.edu/ml/datasets/Iris).\n",
    "\n",
    "The iris dataset contains measurements for 150 iris flowers from three different species.\n",
    "\n",
    "The three classes in the Iris dataset:\n",
    "1. Iris-setosa (n=50)\n",
    "2. Iris-versicolor (n=50)\n",
    "3. Iris-virginica (n=50)\n",
    "\n",
    "The four features of the Iris dataset:\n",
    "1. sepal length in cm\n",
    "2. sepal width in cm\n",
    "3. petal length in cm\n",
    "4. petal width in cm\n",
    "\n",
    "<img src=\"iris_petal_sepal.png\">\n",
    "\n"
   ]
  },
  {
   "cell_type": "code",
   "execution_count": 1,
   "metadata": {},
   "outputs": [],
   "source": [
    "from sklearn.datasets import make_classification\n",
    "import matplotlib.pyplot as plt\n",
    "import numpy as np\n",
    "import seaborn as sns; sns.set();\n",
    "import pandas as pd\n",
    "from sklearn.model_selection import train_test_split\n",
    "from numpy import pi\n",
    "from sklearn import mixture\n",
    "from sklearn.linear_model import SGDClassifier\n",
    "from scipy.spatial import distance\n",
    "from sklearn.preprocessing import StandardScaler"
   ]
  },
  {
   "cell_type": "markdown",
   "metadata": {},
   "source": [
    "### Importing the dataset"
   ]
  },
  {
   "cell_type": "code",
   "execution_count": 2,
   "metadata": {},
   "outputs": [
    {
     "data": {
      "text/html": [
       "<div>\n",
       "<style scoped>\n",
       "    .dataframe tbody tr th:only-of-type {\n",
       "        vertical-align: middle;\n",
       "    }\n",
       "\n",
       "    .dataframe tbody tr th {\n",
       "        vertical-align: top;\n",
       "    }\n",
       "\n",
       "    .dataframe thead th {\n",
       "        text-align: right;\n",
       "    }\n",
       "</style>\n",
       "<table border=\"1\" class=\"dataframe\">\n",
       "  <thead>\n",
       "    <tr style=\"text-align: right;\">\n",
       "      <th></th>\n",
       "      <th>sepal-length</th>\n",
       "      <th>sepal-width</th>\n",
       "      <th>petal-length</th>\n",
       "      <th>petal-width</th>\n",
       "      <th>Class</th>\n",
       "    </tr>\n",
       "  </thead>\n",
       "  <tbody>\n",
       "    <tr>\n",
       "      <th>145</th>\n",
       "      <td>6.7</td>\n",
       "      <td>3.0</td>\n",
       "      <td>5.2</td>\n",
       "      <td>2.3</td>\n",
       "      <td>Iris-virginica</td>\n",
       "    </tr>\n",
       "    <tr>\n",
       "      <th>146</th>\n",
       "      <td>6.3</td>\n",
       "      <td>2.5</td>\n",
       "      <td>5.0</td>\n",
       "      <td>1.9</td>\n",
       "      <td>Iris-virginica</td>\n",
       "    </tr>\n",
       "    <tr>\n",
       "      <th>147</th>\n",
       "      <td>6.5</td>\n",
       "      <td>3.0</td>\n",
       "      <td>5.2</td>\n",
       "      <td>2.0</td>\n",
       "      <td>Iris-virginica</td>\n",
       "    </tr>\n",
       "    <tr>\n",
       "      <th>148</th>\n",
       "      <td>6.2</td>\n",
       "      <td>3.4</td>\n",
       "      <td>5.4</td>\n",
       "      <td>2.3</td>\n",
       "      <td>Iris-virginica</td>\n",
       "    </tr>\n",
       "    <tr>\n",
       "      <th>149</th>\n",
       "      <td>5.9</td>\n",
       "      <td>3.0</td>\n",
       "      <td>5.1</td>\n",
       "      <td>1.8</td>\n",
       "      <td>Iris-virginica</td>\n",
       "    </tr>\n",
       "  </tbody>\n",
       "</table>\n",
       "</div>"
      ],
      "text/plain": [
       "     sepal-length  sepal-width  petal-length  petal-width           Class\n",
       "145           6.7          3.0           5.2          2.3  Iris-virginica\n",
       "146           6.3          2.5           5.0          1.9  Iris-virginica\n",
       "147           6.5          3.0           5.2          2.0  Iris-virginica\n",
       "148           6.2          3.4           5.4          2.3  Iris-virginica\n",
       "149           5.9          3.0           5.1          1.8  Iris-virginica"
      ]
     },
     "execution_count": 2,
     "metadata": {},
     "output_type": "execute_result"
    }
   ],
   "source": [
    "url = \"https://archive.ics.uci.edu/ml/machine-learning-databases/iris/iris.data\"\n",
    "names = ['sepal-length', 'sepal-width', 'petal-length', 'petal-width', 'Class']\n",
    "dataset = pd.read_csv(url, names=names)\n",
    "\n",
    "dataset.tail()"
   ]
  },
  {
   "cell_type": "markdown",
   "metadata": {},
   "source": [
    "### Data preprocessing\n",
    "\n",
    "Once dataset is loaded into a pandas data frame object, the first step is to divide dataset into features and corresponding labels and then divide the resultant dataset into training and test sets. The following code divides data into labels and feature set:"
   ]
  },
  {
   "cell_type": "code",
   "execution_count": 3,
   "metadata": {},
   "outputs": [
    {
     "name": "stdout",
     "output_type": "stream",
     "text": [
      "(150, 4) (150,)\n"
     ]
    }
   ],
   "source": [
    "X = dataset.iloc[:, 0:4].values\n",
    "y = dataset.iloc[:, 4].values\n",
    "print(X.shape,y.shape)"
   ]
  },
  {
   "cell_type": "markdown",
   "metadata": {},
   "source": [
    "The above script assigns the first four columns of the dataset i.e. the feature set to X variable while the values in the fifth column (labels) are assigned to the y variable.\n",
    "\n",
    "The following code divides data into training and test sets:"
   ]
  },
  {
   "cell_type": "code",
   "execution_count": 4,
   "metadata": {},
   "outputs": [
    {
     "name": "stdout",
     "output_type": "stream",
     "text": [
      "(120, 4) (30, 4)\n"
     ]
    }
   ],
   "source": [
    "from sklearn.model_selection import train_test_split\n",
    "\n",
    "X_train, X_test, y_train, y_test = train_test_split(X, y, test_size=0.2, random_state=10)\n",
    "print(X_train.shape,X_test.shape)"
   ]
  },
  {
   "cell_type": "markdown",
   "metadata": {},
   "source": [
    "#### Feature Scaling\n",
    "\n",
    "We will now perform feature scaling as part of data preprocessing too. For this task, we will be using scikit learn `StandardScalar`."
   ]
  },
  {
   "cell_type": "code",
   "execution_count": 5,
   "metadata": {},
   "outputs": [],
   "source": [
    "sc = StandardScaler()\n",
    "X_train = sc.fit_transform(X_train)\n",
    "X_test = sc.transform(X_test)\n"
   ]
  },
  {
   "cell_type": "markdown",
   "metadata": {},
   "source": [
    "## Write your code below\n",
    "\n",
    "Write you code below to LDA on the IRIS dataset and compute the overall accuracy of the classifier."
   ]
  },
  {
   "cell_type": "code",
   "execution_count": 6,
   "metadata": {},
   "outputs": [],
   "source": [
    "# Calculating covariance of an input matrix\n",
    "def calc_cov_matrix(X_input):\n",
    "  n_samples = np.shape(X_input)[0]\n",
    "  print(n_samples)\n",
    "  cov_matrix = np.array((1 / (n_samples-1)) * (X_input - X_input.mean(axis=0)).T.dot(X_input - X_input.mean(axis=0)))\n",
    "\n",
    "  return cov_matrix"
   ]
  },
  {
   "cell_type": "code",
   "execution_count": 7,
   "metadata": {},
   "outputs": [],
   "source": [
    "def LDA(X_train, y_train):\n",
    "    \n",
    "    classes,idx,count=np.unique(y_train,return_inverse=True,return_counts=True)\n",
    "    num_classes=range(classes.shape[0])\n",
    "    zip_iterator = zip(num_classes, classes)\n",
    "    classes_Dict = dict(zip_iterator)\n",
    "    sorted_X=np.empty(X_train.shape)\n",
    "    sorted_y=np.empty(y_train.shape)\n",
    "    #print(idx)\n",
    "    \n",
    "    #print(X_train)\n",
    "    # Sorting samples based on the classes to extract them separately\n",
    "    j=0\n",
    "    for i in num_classes:\n",
    "        for k in range(X_train.shape[0]):\n",
    "            if idx[k]==i:\n",
    "                #print(i,k,X_train[k])\n",
    "                sorted_X[j]=X_train[k]\n",
    "                #print(i,j,sorted_X[j])\n",
    "                sorted_y[j]=i\n",
    "                j+=1\n",
    "\n",
    "    means=np.empty((len(num_classes),X_train.shape[1]))\n",
    "    \n",
    "    j=0\n",
    "    for i in num_classes:\n",
    "        #print(sorted_X[j:j+count[i]])\n",
    "        means[i]=np.mean(sorted_X[j:j+count[i]], axis=0)\n",
    "        #print(means[i])\n",
    "        j=j+count[i]\n",
    "    print(means)\n",
    "    #print(sorted_X)\n",
    "    Mean=np.mean(means)\n",
    "    SB=np.zeros((sorted_X.shape[1],sorted_X.shape[1]))\n",
    "    SW=np.zeros((sorted_X.shape[1],sorted_X.shape[1]))\n",
    "    j=0\n",
    "    for i in num_classes:\n",
    "        SB += np.dot((means[i]-Mean),(means[i]-Mean).T)\n",
    "        SW += calc_cov_matrix(sorted_X[j:j+count[i]])\n",
    "        j=j+count[i]\n",
    "    #print(SB)\n",
    "    #print(SW)\n",
    "    eigvals, eigvecs = np.linalg.eig(np.linalg.pinv(SW).dot(SB))\n",
    "    # Make a list of (eigenvalue, eigenvector) tuples\n",
    "    eig_pairs = [(np.abs(eigvals[i]), eigvecs[:,i]) for i in range(len(eigvals))]\n",
    "\n",
    "    # Sort the (eigenvalue, eigenvector) tuples from high to low\n",
    "    eig_pairs = sorted(eig_pairs, key=lambda k: k[0], reverse=True)\n",
    "\n",
    "    # Visually confirm that the list is correctly sorted by decreasing eigenvalues\n",
    "    #print(eig_pairs)\n",
    "    print('Eigenvalues in decreasing order:\\n')\n",
    "    for i in eig_pairs:\n",
    "        print(i[0])\n",
    "    num_features=X_train.shape[1]\n",
    "    W = np.hstack((eig_pairs[0][1].reshape(num_features,1), eig_pairs[1][1].reshape(num_features,1)))\n",
    "    #W=eig_pairs[0][1].reshape(num_features,1)\n",
    "    print('Matrix W:\\n', W.real)\n",
    "    return W.real,means,classes_Dict"
   ]
  },
  {
   "cell_type": "code",
   "execution_count": 8,
   "metadata": {},
   "outputs": [
    {
     "name": "stdout",
     "output_type": "stream",
     "text": [
      "[[-1.01430344  0.84162281 -1.30206141 -1.25476575]\n",
      " [ 0.10997694 -0.65587668  0.25058115  0.1416812 ]\n",
      " [ 0.84890676 -0.21854593  0.99560358  1.04531222]]\n",
      "40\n",
      "37\n",
      "43\n",
      "Eigenvalues in decreasing order:\n",
      "\n",
      "69.073917495997\n",
      "3.7294340972100905e-15\n",
      "3.7294340972100905e-15\n",
      "0.0\n",
      "Matrix W:\n",
      " [[ 0.22608425 -0.64174385]\n",
      " [-0.01200538  0.0063966 ]\n",
      " [-0.92818604 -0.08161754]\n",
      " [-0.29531755  0.71696479]]\n",
      "{0: 'Iris-setosa', 1: 'Iris-versicolor', 2: 'Iris-virginica'}\n"
     ]
    }
   ],
   "source": [
    "#Calling LDA function to get the new representation,original class means from train_data,mapping of classes names to class id 0,1,2\n",
    "trained_weights,Class_means,Class_Dict = LDA(X_train, y_train)\n",
    "print(Class_Dict)\n",
    "X_train_new = np.dot(X_train, trained_weights)\n",
    "#Fitting Gaussian Mixture model on the new train data representation\n",
    "#Comparing new class means and the Gaussian Cluster means to know the map between class and clusters\n",
    "new_class_mean=np.dot(Class_means,trained_weights)\n",
    "model = mixture.GaussianMixture(n_components=Class_means.shape[0], max_iter=5000, covariance_type='full').fit(X_train_new)\n",
    "cluster_means=model.means_\n",
    "# print(cluster_means)\n",
    "# print(new_class_mean)\n",
    "pairs=[] #mapping classes to cluster in Class_Cluster dictionary\n",
    "for i in range(Class_means.shape[0]):\n",
    "    d0=distance.euclidean(cluster_means[i], new_class_mean[0])\n",
    "    d1=distance.euclidean(cluster_means[i], new_class_mean[1])\n",
    "    d2=distance.euclidean(cluster_means[i], new_class_mean[2])\n",
    "    if d0<d1 and d0<d2:\n",
    "        pairs.append((i,Class_Dict[0]))\n",
    "    elif d1<d0 and d1<d2:\n",
    "        pairs.append((i,Class_Dict[1]))\n",
    "    elif d2<d0 and d2<d1:\n",
    "        pairs.append((i,Class_Dict[2]))\n",
    "\n",
    "Class_Cluster=dict(pairs)\n",
    "#print(Class_Cluster)"
   ]
  },
  {
   "cell_type": "code",
   "execution_count": 9,
   "metadata": {},
   "outputs": [],
   "source": [
    "#Predicting the class of test samples\n",
    "y_test_predicted=[]\n",
    "y_test_cluster=[]\n",
    "list0=[]\n",
    "list1=[]\n",
    "list2=[]\n",
    "X_test_new = np.dot(X_test, trained_weights)\n",
    "for i  in range(X_test_new.shape[0]):\n",
    "    d0=distance.euclidean(cluster_means[0], X_test_new[i])\n",
    "    d1=distance.euclidean(cluster_means[1], X_test_new[i])\n",
    "    d2=distance.euclidean(cluster_means[2], X_test_new[i])\n",
    "    if d0<d1 and d0<d2:\n",
    "        y_test_predicted.append(Class_Cluster[0])\n",
    "        y_test_cluster.append(0)\n",
    "        list0.append(X_test_new[i])\n",
    "    elif d1<d0 and d1<d2:\n",
    "        y_test_predicted.append(Class_Cluster[1])\n",
    "        y_test_cluster.append(1)\n",
    "        list1.append(X_test_new[i])\n",
    "    elif d2<d0 and d2<d1:\n",
    "        y_test_predicted.append(Class_Cluster[2])\n",
    "        y_test_cluster.append(2)\n",
    "        list2.append(X_test_new[i])\n",
    "y_test_predicted=np.array(y_test_predicted)\n",
    "\n"
   ]
  },
  {
   "cell_type": "code",
   "execution_count": 10,
   "metadata": {},
   "outputs": [
    {
     "name": "stdout",
     "output_type": "stream",
     "text": [
      "[[ 1.33968755 -0.13704528]\n",
      " [-0.24168877  0.0063562 ]\n",
      " [-1.03825622  0.12201469]] [[ 1.33968755 -0.13704528]\n",
      " [-1.00772848  0.13920636]\n",
      " [-0.19864819 -0.03004901]]\n"
     ]
    }
   ],
   "source": [
    "print(new_class_mean,cluster_means)"
   ]
  },
  {
   "cell_type": "code",
   "execution_count": 11,
   "metadata": {},
   "outputs": [
    {
     "name": "stdout",
     "output_type": "stream",
     "text": [
      "Accuracy:  96.66666666666667\n"
     ]
    }
   ],
   "source": [
    "# Accuracy Calculation\n",
    "miscls_test_points=[]\n",
    "for i in range(y_test_predicted.shape[0]):\n",
    "    #print(y_test_predicted[i],y_test[i])\n",
    "    if y_test_predicted[i] != y_test[i]:\n",
    "        miscls_test_points.append(X_test_new[i])\n",
    "\n",
    "accuracy = 1-(len(miscls_test_points)/y_test_predicted.shape[0])\n",
    "print(\"Accuracy: \", accuracy*100)\n",
    "#print(miscls_test_points)\n",
    "\n"
   ]
  },
  {
   "cell_type": "code",
   "execution_count": 12,
   "metadata": {},
   "outputs": [
    {
     "data": {
      "image/png": "[encoded data removed]",
      "text/plain": [
       "<Figure size 432x288 with 1 Axes>"
      ]
     },
     "metadata": {},
     "output_type": "display_data"
    }
   ],
   "source": [
    "#Plotting the classes for test data\n",
    "class0=np.array(list0)\n",
    "class1=np.array(list1)\n",
    "class2=np.array(list2)\n",
    "class_mis=np.array(miscls_test_points)\n",
    "#print(class_mis)\n",
    "fig, ax = plt.subplots()\n",
    "class_0,=plt.plot(class0[:,0],class0[:,1],'ro', label='Iris-setosa')\n",
    "class_1,=plt.plot(class1[:,0],class1[:,1],'g+', label='Iris-versicolor')\n",
    "class_2,=plt.plot(class2[:,0],class2[:,1],'b*',label='Iris-virginica')\n",
    "mis,=plt.plot(class_mis[:,0],class_mis[:,1],'kx', label='misclassified')\n",
    "#plt.set_label('Test Data of different classes')\n",
    "ax.set_xlabel('LD1')\n",
    "ax.set_ylabel('LD2')\n",
    "plt.title('Test data')\n",
    "#plt.legend() \n",
    "plt.legend(handles=[class_0, class_1, class_2,mis])\n",
    "plt.legend(loc='lower right', fancybox=True)\n",
    "plt.tight_layout\n",
    "plt.show()\n"
   ]
  },
  {
   "cell_type": "code",
   "execution_count": 18,
   "metadata": {},
   "outputs": [
    {
     "data": {
      "image/png": "[encoded data removed]",
      "text/plain": [
       "<Figure size 432x288 with 1 Axes>"
      ]
     },
     "metadata": {},
     "output_type": "display_data"
    }
   ],
   "source": [
    "#Visualization of decision boundary in above plot\n",
    "def plot_hyperplane(c, color):\n",
    "    def line(x0):\n",
    "        return (-(x0 * coef[c, 0]) - intercept[c]) / coef[c, 1]\n",
    "\n",
    "    plt.plot([xmin, xmax], [line(xmin), line(xmax)],\n",
    "             ls=\"--\", color=color)\n",
    "colors = \"rgb\"\n",
    "label_dict = {0: 'Setosa', 1: 'Versicolor', 2:'Virginica'}\n",
    "X=X_test_new\n",
    "y=y_test_cluster\n",
    "clf = SGDClassifier(alpha=0.001, max_iter=100).fit(X, y) \n",
    "for i, color in zip(clf.classes_, colors):\n",
    "    idx = np.where(y == i)\n",
    "    plt.scatter(X[idx, 0], X[idx, 1], c=color,label=label_dict[i],\n",
    "                cmap=plt.cm.Paired, s=20)\n",
    "plt.title(\"Decision boundary visualization after LDA\")\n",
    "plt.axis('tight')\n",
    "\n",
    "\n",
    "xmin, xmax = plt.xlim()\n",
    "ymin, ymax = plt.ylim()\n",
    "coef = clf.coef_\n",
    "intercept = clf.intercept_\n",
    "\n",
    "\n",
    "for i, color in zip(clf.classes_, colors):\n",
    "    plot_hyperplane(i, color)\n",
    "    if i==1:\n",
    "        break\n",
    "plt.legend()\n",
    "plt.show()"
   ]
  },
  {
   "cell_type": "code",
   "execution_count": null,
   "metadata": {},
   "outputs": [],
   "source": []
  }
 ],
 "metadata": {
  "kernelspec": {
   "display_name": "Python 3",
   "language": "python",
   "name": "python3"
  },
  "language_info": {
   "codemirror_mode": {
    "name": "ipython",
    "version": 3
   },
   "file_extension": ".py",
   "mimetype": "text/x-python",
   "name": "python",
   "nbconvert_exporter": "python",
   "pygments_lexer": "ipython3",
   "version": "3.7.8"
  }
 },
 "nbformat": 4,
 "nbformat_minor": 2
}
