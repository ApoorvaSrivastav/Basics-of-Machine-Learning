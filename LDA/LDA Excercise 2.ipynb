{
 "cells": [
  {
   "cell_type": "markdown",
   "metadata": {},
   "source": [
    "# Excercise 2\n",
    "\n",
    "In Excercise 1, we computed the LDA for a multi-class problem, the IRIS dataset. In this excercise, we will now compare the LDA and PCA for the IRIS dataset.\n",
    "\n",
    "To revisit, the iris dataset contains measurements for 150 iris flowers from three different species.\n",
    "\n",
    "The three classes in the Iris dataset:\n",
    "1. Iris-setosa (n=50)\n",
    "2. Iris-versicolor (n=50)\n",
    "3. Iris-virginica (n=50)\n",
    "\n",
    "The four features of the Iris dataset:\n",
    "1. sepal length in cm\n",
    "2. sepal width in cm\n",
    "3. petal length in cm\n",
    "4. petal width in cm\n",
    "\n",
    "<img src=\"iris_petal_sepal.png\">\n",
    "\n"
   ]
  },
  {
   "cell_type": "code",
   "execution_count": 1,
   "metadata": {},
   "outputs": [],
   "source": [
    "from sklearn.datasets import make_classification\n",
    "import matplotlib.pyplot as plt\n",
    "import numpy as np\n",
    "import seaborn as sns; sns.set();\n",
    "import pandas as pd\n",
    "from sklearn.model_selection import train_test_split\n",
    "from numpy import pi\n",
    "from sklearn.preprocessing import StandardScaler"
   ]
  },
  {
   "cell_type": "markdown",
   "metadata": {},
   "source": [
    "### Importing the dataset"
   ]
  },
  {
   "cell_type": "code",
   "execution_count": 2,
   "metadata": {},
   "outputs": [
    {
     "data": {
      "text/html": [
       "<div>\n",
       "<style scoped>\n",
       "    .dataframe tbody tr th:only-of-type {\n",
       "        vertical-align: middle;\n",
       "    }\n",
       "\n",
       "    .dataframe tbody tr th {\n",
       "        vertical-align: top;\n",
       "    }\n",
       "\n",
       "    .dataframe thead th {\n",
       "        text-align: right;\n",
       "    }\n",
       "</style>\n",
       "<table border=\"1\" class=\"dataframe\">\n",
       "  <thead>\n",
       "    <tr style=\"text-align: right;\">\n",
       "      <th></th>\n",
       "      <th>sepal-length</th>\n",
       "      <th>sepal-width</th>\n",
       "      <th>petal-length</th>\n",
       "      <th>petal-width</th>\n",
       "      <th>Class</th>\n",
       "    </tr>\n",
       "  </thead>\n",
       "  <tbody>\n",
       "    <tr>\n",
       "      <th>145</th>\n",
       "      <td>6.7</td>\n",
       "      <td>3.0</td>\n",
       "      <td>5.2</td>\n",
       "      <td>2.3</td>\n",
       "      <td>Iris-virginica</td>\n",
       "    </tr>\n",
       "    <tr>\n",
       "      <th>146</th>\n",
       "      <td>6.3</td>\n",
       "      <td>2.5</td>\n",
       "      <td>5.0</td>\n",
       "      <td>1.9</td>\n",
       "      <td>Iris-virginica</td>\n",
       "    </tr>\n",
       "    <tr>\n",
       "      <th>147</th>\n",
       "      <td>6.5</td>\n",
       "      <td>3.0</td>\n",
       "      <td>5.2</td>\n",
       "      <td>2.0</td>\n",
       "      <td>Iris-virginica</td>\n",
       "    </tr>\n",
       "    <tr>\n",
       "      <th>148</th>\n",
       "      <td>6.2</td>\n",
       "      <td>3.4</td>\n",
       "      <td>5.4</td>\n",
       "      <td>2.3</td>\n",
       "      <td>Iris-virginica</td>\n",
       "    </tr>\n",
       "    <tr>\n",
       "      <th>149</th>\n",
       "      <td>5.9</td>\n",
       "      <td>3.0</td>\n",
       "      <td>5.1</td>\n",
       "      <td>1.8</td>\n",
       "      <td>Iris-virginica</td>\n",
       "    </tr>\n",
       "  </tbody>\n",
       "</table>\n",
       "</div>"
      ],
      "text/plain": [
       "     sepal-length  sepal-width  petal-length  petal-width           Class\n",
       "145           6.7          3.0           5.2          2.3  Iris-virginica\n",
       "146           6.3          2.5           5.0          1.9  Iris-virginica\n",
       "147           6.5          3.0           5.2          2.0  Iris-virginica\n",
       "148           6.2          3.4           5.4          2.3  Iris-virginica\n",
       "149           5.9          3.0           5.1          1.8  Iris-virginica"
      ]
     },
     "execution_count": 2,
     "metadata": {},
     "output_type": "execute_result"
    }
   ],
   "source": [
    "url = \"https://archive.ics.uci.edu/ml/machine-learning-databases/iris/iris.data\"\n",
    "names = ['sepal-length', 'sepal-width', 'petal-length', 'petal-width', 'Class']\n",
    "dataset = pd.read_csv(url, names=names)\n",
    "\n",
    "dataset.tail()"
   ]
  },
  {
   "cell_type": "markdown",
   "metadata": {},
   "source": [
    "### Data preprocessing\n",
    "\n",
    "Once dataset is loaded into a pandas data frame object, the first step is to divide dataset into features and corresponding labels and then divide the resultant dataset into training and test sets. The following code divides data into labels and feature set:"
   ]
  },
  {
   "cell_type": "code",
   "execution_count": 3,
   "metadata": {},
   "outputs": [],
   "source": [
    "X = dataset.iloc[:, 0:4].values\n",
    "y = dataset.iloc[:, 4].values\n",
    "#print(y)\n"
   ]
  },
  {
   "cell_type": "markdown",
   "metadata": {},
   "source": [
    "The above script assigns the first four columns of the dataset i.e. the feature set to X variable while the values in the fifth column (labels) are assigned to the y variable.\n",
    "\n",
    "The following code divides data into training and test sets:"
   ]
  },
  {
   "cell_type": "code",
   "execution_count": 4,
   "metadata": {},
   "outputs": [],
   "source": [
    "from sklearn.model_selection import train_test_split\n",
    "\n",
    "X_train, X_test, y_train, y_test = train_test_split(X, y, test_size=0.2, random_state=0)"
   ]
  },
  {
   "cell_type": "markdown",
   "metadata": {},
   "source": [
    "#### Feature Scaling\n",
    "\n",
    "We will now perform feature scaling as part of data preprocessing too. For this task, we will be using scikit learn `StandardScalar`."
   ]
  },
  {
   "cell_type": "code",
   "execution_count": 5,
   "metadata": {},
   "outputs": [],
   "source": [
    "sc = StandardScaler()\n",
    "X = sc.fit_transform(X)"
   ]
  },
  {
   "cell_type": "markdown",
   "metadata": {},
   "source": [
    "## Write your code below\n",
    "\n",
    "Write your code to compute the PCA and LDA on the IRIS dataset below."
   ]
  },
  {
   "cell_type": "code",
   "execution_count": 6,
   "metadata": {},
   "outputs": [],
   "source": [
    "### WRITE YOUR CODE HERE ####\n",
    "def pca_transform(X_input, num_components):\n",
    "\n",
    "    \"\"\" PCA algorithm as per our pseudo code above.\n",
    "\n",
    "    Parameters:\n",
    "    --------------\n",
    "\n",
    "    X_input: ndarray (num_examples (rows) x num_features(columns))\n",
    "    Our input data on which we would like to perform PCA.\n",
    "\n",
    "    num_components: int\n",
    "    Defines the kth number of principal components (or eigenvectors) to keep\n",
    "    while performing PCA. These components will be chosen in decreasing \n",
    "    order of variances (or eigenvalues).\n",
    "\n",
    "    \"\"\"\n",
    "\n",
    "    # Centering our data (Step 1)\n",
    "    X_mean = np.mean(X_input, axis=0)\n",
    "    X_mean = X_mean.reshape(1, -1)\n",
    "    X_input -= X_mean\n",
    "\n",
    "    num_examples = (X_input.shape)[0]\n",
    "    constant = 1/(num_examples - 1)\n",
    "\n",
    "    # Calculating covariance matrix (Step 2)\n",
    "    cov_matrix = constant * np.dot(X_input.T, X_input)\n",
    "    cov_matrix = np.array(cov_matrix, dtype=float)\n",
    "\n",
    "    # Calculating eigen values and eigen vectors (or first n-principal components)\n",
    "    # Step 3\n",
    "    eigvals, eigvecs = np.linalg.eig(cov_matrix)\n",
    "\n",
    "    # Step 4\n",
    "    idx = eigvals.argsort()[::-1]\n",
    "    eigvals = eigvals[idx][:num_components]\n",
    "    eigvecs = np.atleast_1d(eigvecs[:, idx])[:, :num_components]\n",
    "\n",
    "    X_projected = np.dot(X_input, eigvecs)\n",
    "    eigvecs = eigvecs.T\n",
    "    return X_projected, eigvecs, eigvals"
   ]
  },
  {
   "cell_type": "code",
   "execution_count": 7,
   "metadata": {},
   "outputs": [],
   "source": [
    "# Calculating covariance of an input matrix\n",
    "def calc_cov_matrix(X_input):\n",
    "  n_samples = np.shape(X_input)[0]\n",
    "  #print(n_samples)\n",
    "  cov_matrix = np.array((1 / (n_samples-1)) * (X_input - X_input.mean(axis=0)).T.dot(X_input - X_input.mean(axis=0)))\n",
    "\n",
    "  return cov_matrix\n",
    "def LDA(X, y):\n",
    "    \n",
    "    classes=np.unique(y_train)\n",
    "    num_classes=range(classes.shape[0])\n",
    "\n",
    "    means=np.empty((len(num_classes),X.shape[1]))\n",
    "    \n",
    "    j=0\n",
    "    for i in num_classes:\n",
    "        #print(sorted_X[j:j+count[i]])\n",
    "        means[i]=np.mean(X[j:j+50], axis=0)\n",
    "        #print(means[i])\n",
    "        j=j+50\n",
    "    #print(means)\n",
    "    #print(sorted_X)\n",
    "    Mean=np.mean(means)\n",
    "    SB=np.zeros((X.shape[1],X.shape[1]))\n",
    "    SW=np.zeros((X.shape[1],X.shape[1]))\n",
    "    j=0\n",
    "    for i in num_classes:\n",
    "        SB += np.dot((means[i]-Mean),(means[i]-Mean).T)\n",
    "        SW += calc_cov_matrix(X[j:j+50])\n",
    "        j=j+50\n",
    "    #print(SB)\n",
    "    #print(SW)\n",
    "    eigvals, eigvecs = np.linalg.eig(np.linalg.pinv(SW).dot(SB))\n",
    "    # Make a list of (eigenvalue, eigenvector) tuples\n",
    "    eig_pairs = [(np.abs(eigvals[i]), eigvecs[:,i]) for i in range(len(eigvals))]\n",
    "\n",
    "    # Sort the (eigenvalue, eigenvector) tuples from high to low\n",
    "    eig_pairs = sorted(eig_pairs, key=lambda k: k[0], reverse=True)\n",
    "\n",
    "    # Visually confirm that the list is correctly sorted by decreasing eigenvalues\n",
    "    #print(eig_pairs)\n",
    "    #print('Eigenvalues in decreasing order:\\n')\n",
    "    #for i in eig_pairs:\n",
    "       # print(i[0])\n",
    "    num_features=X_train.shape[1]\n",
    "    W = np.hstack((eig_pairs[0][1].reshape(num_features,1), eig_pairs[1][1].reshape(num_features,1)))\n",
    "    X_LDA = np.dot(X, W.real)\n",
    "    #W=eig_pairs[0][1].reshape(num_features,1)\n",
    "    #print('Matrix W:\\n', W.real)\n",
    "    return X_LDA,means"
   ]
  },
  {
   "cell_type": "code",
   "execution_count": 8,
   "metadata": {},
   "outputs": [],
   "source": [
    "\n",
    "def plot_Iris(Setosa,Versicolor,Virginica,x_label,y_label,plot_title):\n",
    "\n",
    "    ax = plt.subplot(111)\n",
    "    \n",
    "    plt.scatter(x=Setosa[:,0],y=Setosa[:,1],marker='^',color='blue',alpha=0.5,label=\"Setosa\")\n",
    "    plt.scatter(x=Versicolor[:,0],y=Versicolor[:,1],marker='s',color='red',alpha=0.5,label=\"Versicolor\")\n",
    "    plt.scatter(x=Virginica[:,0],y=Virginica[:,1],marker='o',color='green',alpha=0.5,label=\"Virginica\")\n",
    "    \n",
    "    plt.xlabel(x_label)\n",
    "    plt.ylabel(y_label)\n",
    "\n",
    "    leg = plt.legend(loc='lower right', fancybox=True)\n",
    "    leg.get_frame().set_alpha(0.5)\n",
    "    #plt.title()\n",
    "    plt.title(plot_title)\n",
    "    # hide axis ticks\n",
    "    plt.tick_params(axis=\"both\", which=\"both\", bottom=\"off\", top=\"off\",  \n",
    "            labelbottom=\"on\", left=\"off\", right=\"off\", labelleft=\"on\")\n",
    "\n",
    "    # remove axis spines\n",
    "    ax.spines[\"top\"].set_visible(False)  \n",
    "    ax.spines[\"right\"].set_visible(False)\n",
    "    ax.spines[\"bottom\"].set_visible(False)\n",
    "    ax.spines[\"left\"].set_visible(False)    \n",
    "\n",
    "    plt.tight_layout\n",
    "    plt.grid()\n",
    "\n",
    "    plt.show()"
   ]
  },
  {
   "cell_type": "code",
   "execution_count": 9,
   "metadata": {},
   "outputs": [
    {
     "data": {
      "image/png": "[encoded data removed]",
      "text/plain": [
       "<Figure size 432x288 with 1 Axes>"
      ]
     },
     "metadata": {},
     "output_type": "display_data"
    }
   ],
   "source": [
    "X_PCA,_,_ = pca_transform(X, 2)\n",
    "list_Setosa=[]\n",
    "list_Versicolor=[]\n",
    "list_Virginica=[]\n",
    "for i in range(X.shape[0]):\n",
    "    if y[i]=='Iris-setosa':\n",
    "        list_Setosa.append(X_PCA[i])\n",
    "    elif y[i]=='Iris-versicolor':\n",
    "        list_Versicolor.append(X_PCA[i])\n",
    "    elif y[i]=='Iris-virginica':\n",
    "        list_Virginica.append(X_PCA[i])\n",
    "Setosa=np.array(list_Setosa)\n",
    "Versicolor=np.array(list_Versicolor)\n",
    "Virginica=np.array(list_Virginica)\n",
    "#print(Setosa.shape,Versicolor.shape,Virginica.shape)\n",
    "x_label='PC1'\n",
    "y_label='PC2'\n",
    "plot_title='PCA: Iris projection onto the first 2 principal components'\n",
    "plot_Iris(Setosa,Versicolor,Virginica,x_label,y_label,plot_title)"
   ]
  },
  {
   "cell_type": "code",
   "execution_count": 10,
   "metadata": {},
   "outputs": [
    {
     "data": {
      "image/png": "[encoded data removed]",
      "text/plain": [
       "<Figure size 432x288 with 1 Axes>"
      ]
     },
     "metadata": {},
     "output_type": "display_data"
    }
   ],
   "source": [
    "X_LDA,_= LDA(X, y)\n",
    "\n",
    "list_Setosa=[]\n",
    "list_Versicolor=[]\n",
    "list_Virginica=[]\n",
    "for i in range(X.shape[0]):\n",
    "    if y[i]=='Iris-setosa':\n",
    "        list_Setosa.append(X_LDA[i])\n",
    "    elif y[i]=='Iris-versicolor':\n",
    "        list_Versicolor.append(X_LDA[i])\n",
    "    elif y[i]=='Iris-virginica':\n",
    "        list_Virginica.append(X_LDA[i])\n",
    "Setosa=np.array(list_Setosa)\n",
    "Versicolor=np.array(list_Versicolor)\n",
    "Virginica=np.array(list_Virginica)\n",
    "#print(Setosa.shape,Versicolor.shape,Virginica.shape)\n",
    "x_label='LD1'\n",
    "y_label='LD2'\n",
    "plot_title='LDA: Iris projection onto the first 2 Linear Discriminants'\n",
    "plot_Iris(Setosa,Versicolor,Virginica,x_label,y_label,plot_title)"
   ]
  },
  {
   "cell_type": "code",
   "execution_count": null,
   "metadata": {},
   "outputs": [],
   "source": []
  }
 ],
 "metadata": {
  "kernelspec": {
   "display_name": "Python 3",
   "language": "python",
   "name": "python3"
  },
  "language_info": {
   "codemirror_mode": {
    "name": "ipython",
    "version": 3
   },
   "file_extension": ".py",
   "mimetype": "text/x-python",
   "name": "python",
   "nbconvert_exporter": "python",
   "pygments_lexer": "ipython3",
   "version": "3.7.8"
  }
 },
 "nbformat": 4,
 "nbformat_minor": 2
}
