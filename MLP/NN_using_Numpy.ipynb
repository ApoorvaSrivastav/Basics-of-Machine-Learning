{
  "nbformat": 4,
  "nbformat_minor": 0,
  "metadata": {
    "colab": {
      "name": "NN using Numpy.ipynb",
      "provenance": [],
      "collapsed_sections": []
    },
    "kernelspec": {
      "name": "python3",
      "display_name": "Python 3"
    }
  },
  "cells": [
    {
      "cell_type": "code",
      "metadata": {
        "id": "-vA46gOfKpMl"
      },
      "source": [
        "import numpy as np\n",
        "import torch\n",
        "import torch.nn as nn\n",
        "import torch.optim as optim\n",
        "\n",
        "from matplotlib.colors import ListedColormap\n",
        "import matplotlib.pyplot as plt\n",
        "\n",
        "%matplotlib inline\n",
        "\n",
        "# # The following code is used for hiding the warnings and make this notebook clearer.\n",
        "from matplotlib.axes._axes import _log as matplotlib_axes_logger\n",
        "matplotlib_axes_logger.setLevel('ERROR')"
      ],
      "execution_count": null,
      "outputs": []
    },
    {
      "cell_type": "code",
      "metadata": {
        "id": "OX8qjXtfP185"
      },
      "source": [
        "## Miscellaneous code to plot decision boundary (ignore) ##\n",
        "\n",
        "def plot_decision_regions(X, y, classifier, method, test_idx=None, resolution=0.02):\n",
        "\n",
        "    # setup marker generator and color map\n",
        "    markers = ('s', 'x', 'o', '^', 'v')\n",
        "    colors = ('red', 'blue', 'lightgreen', 'gray', 'cyan')\n",
        "    cmap = ListedColormap(colors[:len(np.unique(y))])\n",
        "\n",
        "    # plot the decision surface\n",
        "    x1_min, x1_max = X[:, 0].min() - 1, X[:, 0].max() + 1\n",
        "    x2_min, x2_max = X[:, 1].min() - 1, X[:, 1].max() + 1\n",
        "    xx1, xx2 = np.meshgrid(np.arange(x1_min, x1_max, resolution),\n",
        "                           np.arange(x2_min, x2_max, resolution))\n",
        "    if method == 'numpy':\n",
        "        Z = classifier.predict(np.array([xx1.ravel(), xx2.ravel()]).T)\n",
        "    elif method == 'pytorch':\n",
        "        inp = torch.tensor([xx1.ravel(), xx2.ravel()], dtype=torch.float, requires_grad=False).T\n",
        "        Z = np.array([]).reshape(0,1)\n",
        "        for data in inp:\n",
        "            out = classifier(data)\n",
        "            Z = np.vstack((Z, out.data.numpy()))\n",
        "    else:\n",
        "        print('Not implemented')\n",
        "    Z = Z.reshape(xx1.shape)\n",
        "    plt.contourf(xx1, xx2, Z, alpha=0.4, cmap=cmap)\n",
        "    plt.xlim(xx1.min(), xx1.max())\n",
        "    plt.ylim(xx2.min(), xx2.max())\n",
        "\n",
        "    # plot class samples\n",
        "    for idx, cl in enumerate(np.unique(y)):\n",
        "        plt.scatter(x=X[y == cl, 0], y=X[y == cl, 1],\n",
        "                    alpha=0.8, c=cmap(idx),\n",
        "                    marker=markers[idx], label=cl)\n",
        "\n",
        "    # highlight test samples\n",
        "    if test_idx:\n",
        "        # plot all samples\n",
        "        X_test, y_test = X[test_idx, :], y[test_idx]\n",
        "\n",
        "        plt.scatter(X_test[:, 0],\n",
        "                    X_test[:, 1],\n",
        "                    c='',\n",
        "                    alpha=1.0,\n",
        "                    linewidths=1,\n",
        "                    marker='o',\n",
        "                    s=55, label='test set')"
      ],
      "execution_count": null,
      "outputs": []
    },
    {
      "cell_type": "code",
      "metadata": {
        "id": "ou51V_fUjtfO"
      },
      "source": [
        "#defining the activation function \n",
        "def sigmoid(x):\n",
        "  out= 1/(1+np.exp(-x))\n",
        "  return(out)\n",
        "#defining derivative of the output\n",
        "def sigmoid_derivative(x):\n",
        "  out= x*(1-x)\n",
        "  return(out)"
      ],
      "execution_count": null,
      "outputs": []
    },
    {
      "cell_type": "markdown",
      "metadata": {
        "id": "7CjxASKPoLwj"
      },
      "source": [
        "Creating the class for neural network"
      ]
    },
    {
      "cell_type": "code",
      "metadata": {
        "id": "SGFdRINJoDsw"
      },
      "source": [
        "class NN:\n",
        "  def __init__(self,net_arch):   \n",
        "    # self is an instance of the class passed to its own function\n",
        "    # init is a function for class initialization..\n",
        "    # net_arch is a list carrying number of neurons per hidden layer\n",
        "    np.random.seed(0)\n",
        "\n",
        "    self.activation = sigmoid\n",
        "    self.activation_derivative = sigmoid_derivative\n",
        "    self.layers = len(net_arch)\n",
        "    self.arch= net_arch\n",
        "    self.weights =[]\n",
        "\n",
        "    # random activation of weights in NN\n",
        "    for layer in range(self.layers-1):  # self.layers-1 because including i/o layer if we have k layers then there are k-1 weight matrices\n",
        "      w= 2 * torch.rand(net_arch[layer]+1,net_arch[layer+1]) -1 # trying to make the values with uniform distribution in (-1,1)\n",
        "                                                                  # size is self.arch[layer]+1 because we need a bias unit on previous layer \n",
        "      self.weights.append(w)\n",
        "    \n",
        "  def _forward_prop(self,x):\n",
        "    out = x              \n",
        "    for i in range(len(self.weights)-1):\n",
        "      z= np.dot(out[i],self.weights[i])\n",
        "      feature = self.activation(z)\n",
        "\n",
        "      #add the bias for the next layer\n",
        "      feature = np.concatenate((np.ones(1),np.array(feature)))\n",
        "      out.append(feature)\n",
        "\n",
        "    # for the last layer we are taking separate dot product as after activation function we don't have to concatenate bias\n",
        "    z= np.dot(out[-1],self.weights[-1])\n",
        "    feature = self.activation(z)\n",
        "    out.append(feature)\n",
        "    return(out)  \n",
        "  \n",
        "  def _back_prop(self,y,target,learning_rate):\n",
        "    # calculating loss\n",
        "    error = target - y[-1]    # only the last eentry of y gives the output of the NN during forward propagation\n",
        "    mse = 0.5 *(error*error)  #0.5 to nullify the factor of 2 after the derivative\n",
        "    # calculate loss drivative with respect of output\n",
        "    delta_vec = [error * self.activation_derivative(y[-1])] # mse = 0.5*(activated_y-target)^2 => dmse/dy = error*activation_derivative(y)\n",
        "    \n",
        "    # we need to begin from the back, from the next to last layer\n",
        "    for i in range(self.layers-2, 0, -1):\n",
        "        error = delta_vec[-1].dot(self.weights[i][1:].T)\n",
        "        error = error*self.activation_derivative(y[i][1:])\n",
        "        delta_vec.append(error)\n",
        "\n",
        "    # Now we need to set the values from back to front\n",
        "    delta_vec.reverse()\n",
        "\n",
        "    # Finally, we adjust the weights, using the backpropagation rules\n",
        "    for i in range(len(self.weights)):\n",
        "        layer = y[i].reshape(1, self.arch[i]+1)\n",
        "        delta = delta_vec[i].reshape(1, self.arch[i+1])\n",
        "        self.weights[i] += learning_rate*layer.T.dot(delta)\n",
        "\n",
        "  def fit(self, data, labels, learning_rate=0.1, epochs=100):\n",
        "      #########\n",
        "      # Training Routine\n",
        "      #########\n",
        "      # parameters\n",
        "      # ----------\n",
        "      # self:    the class object itself\n",
        "      # data:    the set of all possible pairs of booleans True or False indicated by the integers 1 or 0\n",
        "      # labels:  the result of the logical operation 'xor' on each of those input pairs\n",
        "      #########\n",
        "\n",
        "      # Add bias units to the input layer - \n",
        "      # add a \"1\" to the input data (the always-on bias neuron)\n",
        "      ones = np.ones((1, data.shape[0]))\n",
        "      Z = np.concatenate((ones.T, data), axis=1)\n",
        "      \n",
        "      # gradient descent iterations\n",
        "      for k in range(epochs):\n",
        "          # display every 10,000th epoch number\n",
        "          if (k+1) % 10000 == 0:\n",
        "              print('epochs: {}'.format(k+1))\n",
        "\n",
        "          # randomly select a training data point\n",
        "          sample = np.random.randint(X.shape[0])\n",
        "\n",
        "          # We will now go ahead and set up our feed-forward propagation:\n",
        "          x = [Z[sample]]\n",
        "          y = self._forward_prop(x)\n",
        "\n",
        "          # Now we do our back-propagation of the error to adjust the weights:\n",
        "          target = labels[sample]\n",
        "          self._back_prop(y, target, learning_rate)\n",
        "  \n",
        "\n",
        "  def predict_single_data(self, x):\n",
        "      #########\n",
        "      # the predict function is used to check the prediction result of\n",
        "      # this neural network.\n",
        "      # \n",
        "      # parameters\n",
        "      # ----------\n",
        "      # self:   the class object itself\n",
        "      # x:      single input data\n",
        "      #########\n",
        "      val = np.concatenate((np.ones(1).T, np.array(x)))\n",
        "      for i in range(0, len(self.weights)):\n",
        "          val = self.activation(np.dot(val, self.weights[i]))\n",
        "          val = np.concatenate((np.ones(1).T, np.array(val)))\n",
        "      return val[1]\n",
        "  \n",
        "\n",
        "  def predict(self, X):\n",
        "      #########\n",
        "      # the predict function is used to check the prediction result of\n",
        "      # this neural network.\n",
        "      # \n",
        "      # parameters\n",
        "      # ----------\n",
        "      # self:   the class object itself\n",
        "      # X:      the input data array\n",
        "      #########\n",
        "      Y = np.array([]).reshape(0, self.arch[-1])\n",
        "      for x in X:\n",
        "          y = np.array([[self.predict_single_data(x)]])\n",
        "          Y = np.vstack((Y,y))\n",
        "      return Y"
      ],
      "execution_count": null,
      "outputs": []
    },
    {
      "cell_type": "code",
      "metadata": {
        "id": "Ey3XIOEIKA7i",
        "colab": {
          "base_uri": "https://localhost:8080/"
        },
        "outputId": "3f04f913-abc9-4676-b895-b21f3860283e"
      },
      "source": [
        "np.random.seed(0)\n",
        "\n",
        "# Initialize the NeuralNetwork with\n",
        "# 2 input neurons\n",
        "# 2 hidden neurons\n",
        "# 1 output neuron\n",
        "net = NN([2,2,1])\n",
        "\n",
        "# Set the input data\n",
        "X = np.array([[0, 0], [0, 1],\n",
        "                [1, 0], [1, 1]])\n",
        "\n",
        "# Set the labels, the correct results for the xor operation\n",
        "y = np.array([0, 1, \n",
        "                 1, 0])\n",
        "\n",
        "# Call the fit function and train the network for a chosen number of epochs\n",
        "net.fit(X, y, epochs=100000)\n",
        "\n",
        "# Show the prediction results\n",
        "print(\"Final prediction\")\n",
        "for s in X:\n",
        "    print(s, net.predict_single_data(s))"
      ],
      "execution_count": null,
      "outputs": [
        {
          "output_type": "stream",
          "text": [
            "epochs: 10000\n",
            "epochs: 20000\n",
            "epochs: 30000\n",
            "epochs: 40000\n",
            "epochs: 50000\n",
            "epochs: 60000\n",
            "epochs: 70000\n",
            "epochs: 80000\n",
            "epochs: 90000\n",
            "epochs: 100000\n",
            "Final prediction\n",
            "[0 0] 0.02642194835259556\n",
            "[0 1] 0.9747995429937552\n",
            "[1 0] 0.9696768329400414\n",
            "[1 1] 0.023353988380063563\n"
          ],
          "name": "stdout"
        }
      ]
    },
    {
      "cell_type": "code",
      "metadata": {
        "id": "W5TbpdYGPxFU",
        "colab": {
          "base_uri": "https://localhost:8080/",
          "height": 297
        },
        "outputId": "afcd66b8-7e49-4b57-ccd4-c9a707ffd5c9"
      },
      "source": [
        "np.random.seed(0)\n",
        "plot_decision_regions(X, y, net, 'numpy')\n",
        "plt.xlabel('x-axis')\n",
        "plt.ylabel('y-axis')\n",
        "plt.legend(loc='upper left')\n",
        "plt.tight_layout()\n",
        "plt.show()"
      ],
      "execution_count": null,
      "outputs": [
        {
          "output_type": "display_data",
          "data": {
            "image/png": "[encoded data removed]",
            "text/plain": [
              "<Figure size 432x288 with 1 Axes>"
            ]
          },
          "metadata": {
            "tags": [],
            "needs_background": "light"
          }
        }
      ]
    },
    {
      "cell_type": "markdown",
      "metadata": {
        "id": "SvTz8Qb_RyOB"
      },
      "source": [
        "Implementing same neural network with PyTorch\n"
      ]
    },
    {
      "cell_type": "code",
      "metadata": {
        "id": "mfLlMpESRwdS"
      },
      "source": [
        "torch.manual_seed(0)\n",
        "\n",
        "X= torch.tensor([[0,0],[0,1],[1,0],[1,1]],dtype=torch.float,requires_grad=False)\n",
        "Y= torch.tensor([0,1,1,0],dtype=torch.float,requires_grad=False)"
      ],
      "execution_count": null,
      "outputs": []
    },
    {
      "cell_type": "code",
      "metadata": {
        "id": "r8eKHJsaR_If"
      },
      "source": [
        "class NN(nn.Module):\n",
        "  def __init__(self):\n",
        "    super(NN,self).__init__()\n",
        "    self.fc1= nn.Linear(2,2,True)\n",
        "    self.fc2= nn.Linear(2,1,True)\n",
        "  \n",
        "  def forward(self,x):\n",
        "    x=self.fc1(x)\n",
        "    x=torch.sigmoid(x)\n",
        "    x=self.fc2(x)\n",
        "    x=torch.sigmoid(x)\n",
        "    return(x)\n",
        "model = NN()"
      ],
      "execution_count": null,
      "outputs": []
    },
    {
      "cell_type": "code",
      "metadata": {
        "id": "5Tk0Yj9mXeJN"
      },
      "source": [
        "def weights_init(model):\n",
        "    for m in model.modules():\n",
        "        if isinstance(m, nn.Linear):\n",
        "            # initialize the weight tensor, here we use a normal distribution\n",
        "            m.weight.data.normal_(0, 1)\n",
        "\n",
        "weights_init(model)"
      ],
      "execution_count": null,
      "outputs": []
    },
    {
      "cell_type": "code",
      "metadata": {
        "id": "_RM7_23HXlpn"
      },
      "source": [
        "loss_func=nn.MSELoss()\n",
        "optimizer = optim.SGD(model.parameters(), lr=0.1)"
      ],
      "execution_count": null,
      "outputs": []
    },
    {
      "cell_type": "code",
      "metadata": {
        "id": "FPRd5UZDYlOi",
        "colab": {
          "base_uri": "https://localhost:8080/"
        },
        "outputId": "e9751973-f56a-4d42-f7fe-cc82cbd15869"
      },
      "source": [
        "epochs = 5000\n",
        "steps = X.size(0)\n",
        "for i in range(epochs): # iterate over epoch\n",
        "    for j in range(steps): # iterate over sample\n",
        "        # randomly sample the inputs\n",
        "        sample = np.random.randint(X.size(0))\n",
        "        x_var = X[sample]\n",
        "        y_var = Y[sample]\n",
        "        \n",
        "        optimizer.zero_grad()   # for zeroing out the gradient of the previous pass\n",
        "\n",
        "        y_hat = model(x_var)\n",
        "        \n",
        "        loss = loss_func.forward(y_hat[0], y_var)\n",
        "        loss.backward()   #x.grad += dloss/dx accumulates gradient with respect to a parameter\n",
        "        \n",
        "        optimizer.step()  # x += -lr * x.grad makes update to the tensor value of the parameter\n",
        "        \n",
        "    if i % 500 == 0:\n",
        "        print(\"Epoch: {0}, Loss: {1}, \".format(i, loss.data.numpy()))"
      ],
      "execution_count": null,
      "outputs": [
        {
          "output_type": "stream",
          "text": [
            "Epoch: 0, Loss: 0.22248335182666779, \n",
            "Epoch: 500, Loss: 0.3160940408706665, \n",
            "Epoch: 1000, Loss: 0.1796559989452362, \n",
            "Epoch: 1500, Loss: 0.29297852516174316, \n",
            "Epoch: 2000, Loss: 0.23936912417411804, \n",
            "Epoch: 2500, Loss: 0.3022308051586151, \n",
            "Epoch: 3000, Loss: 0.22345194220542908, \n",
            "Epoch: 3500, Loss: 0.19708336889743805, \n",
            "Epoch: 4000, Loss: 0.24158047139644623, \n",
            "Epoch: 4500, Loss: 0.03484043851494789, \n"
          ],
          "name": "stdout"
        }
      ]
    },
    {
      "cell_type": "code",
      "metadata": {
        "id": "Isgx0XxJfz1v",
        "colab": {
          "base_uri": "https://localhost:8080/"
        },
        "outputId": "11e113af-4d1e-43bc-b8ed-dff02193a10f"
      },
      "source": [
        "for data in X:\n",
        "    output = model(data)\n",
        "    print(data, np.round(output.data.numpy()))"
      ],
      "execution_count": null,
      "outputs": [
        {
          "output_type": "stream",
          "text": [
            "tensor([0., 0.]) [0.]\n",
            "tensor([0., 1.]) [1.]\n",
            "tensor([1., 0.]) [1.]\n",
            "tensor([1., 1.]) [0.]\n"
          ],
          "name": "stdout"
        }
      ]
    },
    {
      "cell_type": "code",
      "metadata": {
        "id": "q7Xcfxyqf9ak",
        "colab": {
          "base_uri": "https://localhost:8080/",
          "height": 297
        },
        "outputId": "478d8efa-6fb2-4fb3-c2f0-2b4daabc9a80"
      },
      "source": [
        "np.random.seed(0)\n",
        "plot_decision_regions(X.detach().numpy(), Y.detach().numpy(), model, 'pytorch')\n",
        "plt.xlabel('x-axis')\n",
        "plt.ylabel('y-axis')\n",
        "plt.legend(loc='upper left')\n",
        "plt.tight_layout()\n",
        "plt.show()"
      ],
      "execution_count": null,
      "outputs": [
        {
          "output_type": "display_data",
          "data": {
            "image/png": "[encoded data removed]",
            "text/plain": [
              "<Figure size 432x288 with 1 Axes>"
            ]
          },
          "metadata": {
            "tags": [],
            "needs_background": "light"
          }
        }
      ]
    }
  ]
}